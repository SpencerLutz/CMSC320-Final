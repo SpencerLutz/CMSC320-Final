{
 "cells": [
  {
   "attachments": {},
   "cell_type": "markdown",
   "metadata": {},
   "source": [
    "<div><img src='images/CR_Logo.png' width='350px' style='display:inline;vertical-align:middle;'><h1 style='display:inline;vertical-align:middle;font-size:100px;'>: Which Deck is Best?</h1></div>"
   ]
  },
  {
   "attachments": {},
   "cell_type": "markdown",
   "metadata": {},
   "source": [
    "### - Spencer Lutz"
   ]
  },
  {
   "attachments": {},
   "cell_type": "markdown",
   "metadata": {},
   "source": [
    "[Clash Royale](https://clashroyale.com/) is a free-to-play real-time strategy mobile game released by [Supercell](https://supercell.com/). After the success of their game [Clash of Clans](https://supercell.com/en/games/clashofclans/), they released Clash Royale in early 2016 using many of the same characters, items, and mechanics. In a match of Clash Royale, each player selects a deck of 8 'cards'. Each card corresponds to a character with unique stats and abilities. These cards cost 'elixir' to use, a currency that slowly replenishes throughout the match. The goal of the game is to use your cards to simultaneously destroy the opponent's towers and defend your own. Each player has a 'King Tower' which is flanked by two 'Princess Towers'. The player who destroys their opponent's 'King Tower' first wins. If time runs out, the player who has destroyed more of their opponent's Princess Towers wins."
   ]
  },
  {
   "attachments": {},
   "cell_type": "markdown",
   "metadata": {},
   "source": [
    "<div style='width:100%;text-align:center;'>\n",
    "    <img src='images/Game1.png' width=300px style='padding-right:20px;'>\n",
    "    <img src='images/Game2.png' width=300pxstyle='padding-left:20px;'>\n",
    "</div>"
   ]
  },
  {
   "attachments": {},
   "cell_type": "markdown",
   "metadata": {},
   "source": [
    "There are many different types of matches that occur in Clash Royale, but I will be focusing on Ladder matches. The Ladder, also known as Trophy Road, is the central focus of the game, making up most of the player's progression. Ladder matches are 1v1 matches in which the winner wins 'trophies' and the loser loses trophies. Players start with 0 trophies, and they gain more by winning matches. The Ladder is divided into 20 arenas, which players unlock by reaching a certain number of trophies (e.g. Arena 1 requires 0 trophies, Arena 2 requires 300, ... Arena 20 requires 7500). Once a player enters an arena, they can never drop below the required trophies for that arena. When a player unlocks a new arena, they also unlock 4 to 8 new cards that they can add to their deck. At the start of Arena 1, the player only has 8 cards available, so every deck is the same; however, as more cards are unlocked, decks become very customizable."
   ]
  },
  {
   "attachments": {},
   "cell_type": "markdown",
   "metadata": {},
   "source": [
    "Currently, I am in Arena 15, but I have been using the same deck since Arena 7. It used to perform quite well, but now it's outdated, so my progress has begun to stagnate. There are dozens more cards available to me now, so I wanted to create a new deck, but decision anxiety is preventing me from committing to anything. How would I know if a deck is good enough? Should I use a popular deck or create my own? What if switching out a couple cards would make me the best player in the world? The best way to answer these questions is through data."
   ]
  },
  {
   "attachments": {},
   "cell_type": "markdown",
   "metadata": {},
   "source": [
    "## Data Collection, Parsing, and Representation"
   ]
  },
  {
   "attachments": {},
   "cell_type": "markdown",
   "metadata": {},
   "source": [
    "There aren't a lot of datasets out there for Clash Royale matches, and the ones that exist are very outdated. This is an issue because Supercell recently [released](https://clashroyale.com/blog/release-notes/new-update-october-2022.html) new cards and mechanics, which would have meaningful effects on the data and conclusions. Thus, I chose to create my own by scraping Clash Royale's [developer API](https://developer.clashroyale.com/#/). This will allow me to get data on millions of matches from the past few days alone."
   ]
  },
  {
   "attachments": {},
   "cell_type": "markdown",
   "metadata": {},
   "source": [
    "### Clan Approach"
   ]
  },
  {
   "attachments": {},
   "cell_type": "markdown",
   "metadata": {},
   "source": [
    "In Clash Royale, players can join a 'Clan' - a group of players that trade cards, chat, and fight wars against other Clans. My initial approach was to loop through hundreds of clans, get every player in each clan, and then scan their recent matches for Ladder matches fought since the most recent [balancing update](https://clashroyale.com/blog/release-notes/balance-changes.html) (December 7). (*Note: there was an update on December 11 that included a small balance change to one card, but since this was a very small change and I wanted to maximize data, I chose to include matches both before and after this update.*)"
   ]
  },
  {
   "attachments": {},
   "cell_type": "markdown",
   "metadata": {},
   "source": [
    "I first import `requests` to get the data, `datetime` to ensure matches were played after the 12/7 update, and `pandas` to use DataFrames."
   ]
  },
  {
   "cell_type": "code",
   "execution_count": 112,
   "metadata": {},
   "outputs": [],
   "source": [
    "import requests\n",
    "from datetime import datetime\n",
    "import pandas as pd"
   ]
  },
  {
   "attachments": {},
   "cell_type": "markdown",
   "metadata": {},
   "source": [
    "I create constants for the API URL, my API auth token and resulting auth header, and the cutoff time."
   ]
  },
  {
   "cell_type": "code",
   "execution_count": 113,
   "metadata": {},
   "outputs": [],
   "source": [
    "API_URL = 'https://api.clashroyale.com/v1'\n",
    "API_TOKEN = # Auth Token Here\n",
    "AUTH_HEADER = {'Authorization': f'Bearer {API_TOKEN}'}\n",
    "CUTOFF_TIME = datetime(2022, 12, 8) # Midnight December 8"
   ]
  },
  {
   "attachments": {},
   "cell_type": "markdown",
   "metadata": {},
   "source": [
    "I define a helper function to convert time from the format used by the API into a `datetime` object."
   ]
  },
  {
   "cell_type": "code",
   "execution_count": 114,
   "metadata": {},
   "outputs": [],
   "source": [
    "def to_datetime(date_str):\n",
    "    \"\"\" \n",
    "    Parameters:\n",
    "        date_str (string): A date in the format given by the CR API\n",
    "    Yields:\n",
    "        date (datetime): The same date as a datetime object\n",
    "    \"\"\"\n",
    "    \n",
    "    return datetime.strptime(date_str, '%Y%m%dT%H%M%S.000Z')"
   ]
  },
  {
   "attachments": {},
   "cell_type": "markdown",
   "metadata": {},
   "source": [
    "Next, I create a function to return a list of clan tags. The `/clans` API endpoint returns information about clans, including the clan tag, which is a string that uniquely identifies a Clan. We will need this later. I choose to return clans with at least 40 members (max for a clan is 50) because the API requires at least one filter, and because this will help maximize the number of players I can get per call to the API."
   ]
  },
  {
   "cell_type": "code",
   "execution_count": 664,
   "metadata": {},
   "outputs": [],
   "source": [
    "def get_clans(num_clans):\n",
    "    \"\"\" \n",
    "    Parameters:\n",
    "        num_clans (int): The maximum number of clans to return tags for\n",
    "    Yields:\n",
    "        tags (list): List of clan tags\n",
    "    \"\"\"\n",
    "    \n",
    "    min_members = 40 # Clans with at least 40 members\n",
    "    url = API_URL + f'/clans?minMembers={min_members}&limit={num_clans}'\n",
    "\n",
    "    response = requests.get(url, headers=AUTH_HEADER).json()\n",
    "    return [clan['tag'] for clan in response['items']] # Return clan tags"
   ]
  },
  {
   "attachments": {},
   "cell_type": "markdown",
   "metadata": {},
   "source": [
    "Players also have unique tags that we can use to identify them. Once we have clan information, we can use the Clan's tag to generate a list of the tags of each member using the `/clans/{tag}/members` API endpoint. (*Note: `%23` and `[1:]` in any of the following code is because player and clan tags are of the format `#XXXXXXXX` (where X are alphanumeric), and that `#` needs to be URL encoded. Easier in my opinion to remove the `#` and add `%23` than to URL encode the entire string.*)"
   ]
  },
  {
   "cell_type": "code",
   "execution_count": 116,
   "metadata": {},
   "outputs": [],
   "source": [
    "def player_tags_from_clan(clan_tag):\n",
    "    \"\"\"\n",
    "    Parameters:\n",
    "        clan_tag (string): The tag of the clan to search\n",
    "    Returns:\n",
    "        tags (list): The tags of valid players in the clan\n",
    "    \"\"\"\n",
    "    \n",
    "    url = API_URL + f'/clans/%23{clan_tag[1:]}/members' # API call to get clan members\n",
    "    response = requests.get(url, headers=AUTH_HEADER).json()\n",
    "\n",
    "    tags = [] # List to store tags in \n",
    "    for player in response['items']: # Loop through members\n",
    "        # If member has not been online since the update, no point in getting their matches\n",
    "        if to_datetime(player['lastSeen']) >= CUTOFF_TIME:\n",
    "            tags.append(player['tag'])\n",
    "\n",
    "    return tags"
   ]
  },
  {
   "attachments": {},
   "cell_type": "markdown",
   "metadata": {},
   "source": [
    "Now that we have players, we can easily get information about their recent battles. Supercell stores up to 35 battles for each player, which we can access using the `/players/{tag}/battlelog` API endpoint."
   ]
  },
  {
   "cell_type": "code",
   "execution_count": 117,
   "metadata": {},
   "outputs": [],
   "source": [
    "def battles_from_player(player_tag):\n",
    "    \"\"\"\n",
    "    Parameters:\n",
    "        player_tag (string): The tag of the player to search\n",
    "    Returns:\n",
    "        battles (list): The player's recent battles\n",
    "    \"\"\"\n",
    "    \n",
    "    url = API_URL + f'/players/%23{player_tag[1:]}/battlelog'\n",
    "\n",
    "    return requests.get(url, headers=AUTH_HEADER).json()"
   ]
  },
  {
   "attachments": {},
   "cell_type": "markdown",
   "metadata": {},
   "source": [
    "For each battle, we need to specify what data to put in our dataframe and how to parse it. I first filter out any battles that aren't Ladder matches or that occurred before the recent update. I choose to keep the time information, the trophy count, deck, and score for both players, whether or not the player won, and an ID to uniquely identify each battle by its time and player tag. (The assumption is that no two matches will be played by the same player at the same time, leading to a unique value). We then add this to a 1-row dataframe and append it to an existing dataframe for every match."
   ]
  },
  {
   "cell_type": "code",
   "execution_count": 118,
   "metadata": {},
   "outputs": [],
   "source": [
    "def add_battle_to_df(df, battle):\n",
    "    \"\"\"\n",
    "    Parameters:\n",
    "        df (DataFrame): DataFrame to accumulate match info\n",
    "        battle (dictionary): Match information returned from the CR API\n",
    "    Returns:\n",
    "        df (DataFrame): df with an added row containing the new battle's information\n",
    "    \"\"\"\n",
    "\n",
    "    if battle['gameMode']['name'] != 'Ladder': # Verify ladder match\n",
    "        return df\n",
    "    \n",
    "    time = to_datetime(battle['battleTime']) \n",
    "    if time < CUTOFF_TIME: # Check if match is after most recent update\n",
    "        return df\n",
    "    \n",
    "    row = pd.DataFrame() # Create row to append\n",
    "    \n",
    "    row['time'] = [time] # Add time column\n",
    "    \n",
    "    # Get player and opponent data\n",
    "    player = battle['team'][0]\n",
    "    opponent = battle['opponent'][0]\n",
    "    try: # Sometimes starting trophies is not listed for some reason\n",
    "        row['player_trophies'] = player['startingTrophies']\n",
    "        row['opponent_trophies'] = opponent['startingTrophies']\n",
    "    except: # In this case we want to ignore the data\n",
    "        return df\n",
    "\n",
    "    # Get name of cards for decks on each side\n",
    "    player_deck = [c['name'] for c in player['cards']]\n",
    "    opponent_deck = [c['name'] for c in opponent['cards']]\n",
    "    # Convert to tuple and sort so elements are hashable, compatible with groupby\n",
    "    row['player_deck'] = [tuple(sorted(player_deck))]\n",
    "    row['opponent_deck'] = [tuple(sorted(opponent_deck))]\n",
    "\n",
    "    # Get final score for both sides and whether player won\n",
    "    row['player_score'] = player['crowns']\n",
    "    row['opponent_score'] = opponent['crowns']\n",
    "    row['win'] = 1 if player['crowns'] > opponent['crowns']\\\n",
    "                    else 0 if player['crowns'] < opponent['crowns']\\\n",
    "                    else None\n",
    "\n",
    "    # Generate a unique ID for this battle\n",
    "    row['battle_id'] = hash(battle['battleTime'] + player['tag'])\n",
    "    \n",
    "    return pd.concat([df, row], ignore_index=True) # Add row to DataFrame"
   ]
  },
  {
   "attachments": {},
   "cell_type": "markdown",
   "metadata": {},
   "source": [
    "Now I can tie all these together into a single nested loop. I keep a DataFrame `battles` with every row that's added. Note that for every battle, I add the battle both from the player's perspective and from the opponent's perspective. This is to make analysis much easier later on."
   ]
  },
  {
   "cell_type": "code",
   "execution_count": null,
   "metadata": {},
   "outputs": [],
   "source": [
    "battles = pd.DataFrame()\n",
    "\n",
    "# Loop through clans, players, matches\n",
    "for clan_tag in get_clans(1000):\n",
    "    for player_tag in player_tags_from_clan(clan_tag):\n",
    "        for battle in battles_from_player(player_tag):\n",
    "            battles = add_battle_to_df(battles, battle) # Add battle\n",
    "\n",
    "            # Swap positions\n",
    "            player, opponent = battle['team'], battle['opponent']\n",
    "            battle['team'], battle['opponent'] = opponent, player\n",
    "\n",
    "            battles = add_battle_to_df(battles, battle) # Add swapped battle"
   ]
  },
  {
   "cell_type": "code",
   "execution_count": 663,
   "metadata": {},
   "outputs": [
    {
     "data": {
      "text/plain": [
       "297254"
      ]
     },
     "execution_count": 663,
     "metadata": {},
     "output_type": "execute_result"
    }
   ],
   "source": [
    "len(battles)"
   ]
  },
  {
   "attachments": {},
   "cell_type": "markdown",
   "metadata": {},
   "source": [
    "This gives a good amount of data - around 300,000 matches. This is good, but for better results, I want somewhere on the order of a few million matches. Unfortunately, the API endpoint for getting clans caps the number of clans returned at 896 for some reason (I know that this isn't all of the clans because my clan has 50 members and it is never listed in the results). Another drawback of this approach is that matches are unevenly distributed across trophy count - there were many more matches between players around 5000 trophies than there were between players around 500. (The reason for this is that prior to the recent major update, the end of the ladder was at 5000 trophies.)"
   ]
  },
  {
   "attachments": {},
   "cell_type": "markdown",
   "metadata": {},
   "source": [
    "### Spidering Approach"
   ]
  },
  {
   "attachments": {},
   "cell_type": "markdown",
   "metadata": {},
   "source": [
    "My second approach was to spider (or crawl) through matches. I first get a good number of matches using the approach above, but instead of saving the original data, I get the player tag and trophy count. I then use these values to get a tag for one player in every 100-trophy interval. Once I have these tags, I run a modified BFS (Depth-Limited BFS? Is that a thing?) on their battles. I first add these initial tags to a queue, and for each one, I get the tags for every player they've fought a battle against. I add each of these players to a separate queue and do the same thing for that queue, making sure to avoid duplicate players. This means the number of players I can query isn't limited by the API, and because players fight matches against other players of similar trophy count, I will likely get a much more even distribution of data."
   ]
  },
  {
   "attachments": {},
   "cell_type": "markdown",
   "metadata": {},
   "source": [
    "I get the intervals I want using `range` and use them to form a list of `pd.Interval` objects that need to be matched with a player tag. This list will be depleted as intervals are paired with player tags, and we will stop searching once all intervals have an associated player (i.e. `len(missing_intervals) == 0`). Then I request the list of clans as before, but this time, instead of a high minimum member count, I choose a low minimum score. A clan's score is based on the trophy count of its members, so this will prevent us from ruling out players with fewer than 1000 trophies, who are less likely to be in a clan. I loop through these, and for the same reasons as mentioned prior, I make sure that the clan has a minimum trophy requirement of 0. I then go through each member and check if they are part of an interval for which a player is needed, as well as if they have any recent battles to spider from. I then add this player's tag to the `players` dictionary."
   ]
  },
  {
   "cell_type": "code",
   "execution_count": null,
   "metadata": {},
   "outputs": [],
   "source": [
    "intervals = range(0,7501,100) # Get trophy intervals\n",
    "players = {} # Dict to map trophy interval to player tag\n",
    "# List of intervals that do not yet have a player associated\n",
    "missing_intervals = [pd.Interval(i, j, 'left') for i, j in zip(intervals, intervals[1:])]\n",
    "\n",
    "# Fetch clan data\n",
    "url = API_URL + f'/clans?minScore={1}&limit={1000}'\n",
    "response = requests.get(url, headers=AUTH_HEADER).json()\n",
    "\n",
    "for clan in response['items']: # Loop through clans\n",
    "    if clan['requiredTrophies'] == 0: # Make sure there is no trophy requirement\n",
    "        for player in player_tags_from_clan(clan['tag']): # Loop through clan members\n",
    "            for interval in missing_intervals: # Check intervals\n",
    "                if player['trophies'] in interval\\\n",
    "                        and len(battles_from_player(player['tag'])) > 0:\n",
    "                    players[interval] = player['tag'] # Add to players\n",
    "                    missing_intervals.remove(interval) # Remove from missing intervals\n",
    "                    \n",
    "    if len(missing_intervals) == 0: # If we have found enough players, stop searching\n",
    "        break"
   ]
  },
  {
   "attachments": {},
   "cell_type": "markdown",
   "metadata": {},
   "source": [
    "Now that I have starting tags for each trophy level, I can start spidering from each of them. I put these tags in `current_queue`, and initialize `next_queue` to `[]`. I am using a weird version of BFS, because with vanilla BFS if I stop iterating at a certian number of battles, it is possible I am halfway through the queue, in which case I would have many times more battles for trophy levels in the lower half that was searched 1 layer deeper. This method ensures that I only stop searching when an entire layer has been searched."
   ]
  },
  {
   "attachments": {},
   "cell_type": "markdown",
   "metadata": {},
   "source": [
    "As before, I initialize a DataFrame to store the battle data we get. I set the depth to 5, which at a rate of roughly 15 valid battles per player should result in a few million battles. For each layer, I loop through `current_queue` until it is empty. I make sure the tag is new, and then I get the battles from that tag. I add the opponent for each battle to `next_queue` and add its data (if the battle is valid) to the DataFrame. After each layer, I remove all duplicates and check to see if we have at least 1 million battles. If not, I set `current_queue` to `next_queue` and clear `next_queue` for the next iteration."
   ]
  },
  {
   "cell_type": "code",
   "execution_count": null,
   "metadata": {},
   "outputs": [],
   "source": [
    "current_queue = list(players.values()) # Tags we are currently iterating\n",
    "next_queue = [] # List to store current_queue's descendants\n",
    "seen = set() # Stores tags we have already visited\n",
    "depth = 5 # How deep to traverse in the 'tree'\n",
    "battles = pd.DataFrame() # Accumulates battle rows like before\n",
    "\n",
    "for _ in range(depth): # Loop through each layer\n",
    "    while len(current_queue) > 0:\n",
    "        tag = current_queue.pop()\n",
    "        if tag in seen: # Make sure tag has not been visited\n",
    "            continue\n",
    "        seen.add(tag)\n",
    "\n",
    "        player_battles = battles_from_player(tag) # Get battles\n",
    "        for battle in player_battles:\n",
    "            next_queue.append(battle['opponent'][0]['tag']) # Add to queue\n",
    "\n",
    "            battles = add_battle_to_df(battles, battle) # Add battle to the DataFrame\n",
    "            player, opponent = battle['team'], battle['opponent'] # Swap\n",
    "            battle['team'], battle['opponent'] = opponent, player\n",
    "            battles = add_battle_to_df(battles, battle) # Add swapped battle\n",
    "\n",
    "    battles = battles.drop_duplicates(subset=['battle_id']) # Remove duplicate battles\n",
    "\n",
    "    if len(battles) > 1000000: # Check limit\n",
    "        break\n",
    "    \n",
    "    current_queue = next_queue # Shift queues\n",
    "    next_queue = []"
   ]
  },
  {
   "attachments": {},
   "cell_type": "markdown",
   "metadata": {},
   "source": [
    "*I ran this a few different times over the following days to keep gathering data.*"
   ]
  },
  {
   "cell_type": "code",
   "execution_count": 255,
   "metadata": {},
   "outputs": [
    {
     "data": {
      "text/plain": [
       "6203429"
      ]
     },
     "execution_count": 255,
     "metadata": {},
     "output_type": "execute_result"
    }
   ],
   "source": [
    "len(battles)"
   ]
  },
  {
   "attachments": {},
   "cell_type": "markdown",
   "metadata": {},
   "source": [
    "I think this is enough data to begin my analysis."
   ]
  },
  {
   "attachments": {},
   "cell_type": "markdown",
   "metadata": {},
   "source": [
    "## Exploratory Data Analysis"
   ]
  },
  {
   "attachments": {},
   "cell_type": "markdown",
   "metadata": {},
   "source": [
    "Lets get our new imports: We need `pyplot`, `ticker`, `font_manager`, and `Line2D` from `matplotlib` for visualizing our data, and `display` and `HTML` from `IPython.display` to display cards."
   ]
  },
  {
   "cell_type": "code",
   "execution_count": 256,
   "metadata": {},
   "outputs": [],
   "source": [
    "import matplotlib.pyplot as plt\n",
    "import matplotlib.ticker as tkr\n",
    "from matplotlib.lines import Line2D\n",
    "from matplotlib import font_manager\n",
    "from IPython.display import display, HTML"
   ]
  },
  {
   "cell_type": "code",
   "execution_count": 258,
   "metadata": {},
   "outputs": [],
   "source": [
    "SMALL_FONT = 8\n",
    "MEDIUM_FONT = 10\n",
    "LARGE_FONT = 13\n",
    "BG_COLOR = '#CFE6FC'\n",
    "LINE_COLOR = '#FFFFFF'\n",
    "COLOR_1 = '#FF6450'\n",
    "COLOR_2 = '#B160FC'"
   ]
  },
  {
   "attachments": {},
   "cell_type": "markdown",
   "metadata": {},
   "source": [
    "### Summary Statistics"
   ]
  },
  {
   "attachments": {},
   "cell_type": "markdown",
   "metadata": {},
   "source": [
    "First, we can get some quick summary statistics:"
   ]
  },
  {
   "cell_type": "code",
   "execution_count": 259,
   "metadata": {},
   "outputs": [
    {
     "data": {
      "text/html": [
       "<div>\n",
       "<style scoped>\n",
       "    .dataframe tbody tr th:only-of-type {\n",
       "        vertical-align: middle;\n",
       "    }\n",
       "\n",
       "    .dataframe tbody tr th {\n",
       "        vertical-align: top;\n",
       "    }\n",
       "\n",
       "    .dataframe thead th {\n",
       "        text-align: right;\n",
       "    }\n",
       "</style>\n",
       "<table border=\"1\" class=\"dataframe\">\n",
       "  <thead>\n",
       "    <tr style=\"text-align: right;\">\n",
       "      <th></th>\n",
       "      <th>player_trophies</th>\n",
       "      <th>opponent_trophies</th>\n",
       "      <th>player_score</th>\n",
       "      <th>opponent_score</th>\n",
       "      <th>battle_id</th>\n",
       "      <th>win</th>\n",
       "    </tr>\n",
       "  </thead>\n",
       "  <tbody>\n",
       "    <tr>\n",
       "      <th>count</th>\n",
       "      <td>6.203429e+06</td>\n",
       "      <td>6.203429e+06</td>\n",
       "      <td>6.203429e+06</td>\n",
       "      <td>6.203429e+06</td>\n",
       "      <td>6.203429e+06</td>\n",
       "      <td>6203047.0</td>\n",
       "    </tr>\n",
       "    <tr>\n",
       "      <th>mean</th>\n",
       "      <td>4.177939e+03</td>\n",
       "      <td>4.177939e+03</td>\n",
       "      <td>1.102455e+00</td>\n",
       "      <td>1.102456e+00</td>\n",
       "      <td>1.439181e+15</td>\n",
       "      <td>0.5</td>\n",
       "    </tr>\n",
       "    <tr>\n",
       "      <th>std</th>\n",
       "      <td>1.636007e+03</td>\n",
       "      <td>1.636007e+03</td>\n",
       "      <td>1.052663e+00</td>\n",
       "      <td>1.052663e+00</td>\n",
       "      <td>5.324576e+18</td>\n",
       "      <td>0.5</td>\n",
       "    </tr>\n",
       "    <tr>\n",
       "      <th>min</th>\n",
       "      <td>2.300000e+01</td>\n",
       "      <td>2.300000e+01</td>\n",
       "      <td>0.000000e+00</td>\n",
       "      <td>0.000000e+00</td>\n",
       "      <td>-9.223368e+18</td>\n",
       "      <td>0.0</td>\n",
       "    </tr>\n",
       "    <tr>\n",
       "      <th>25%</th>\n",
       "      <td>2.664000e+03</td>\n",
       "      <td>2.664000e+03</td>\n",
       "      <td>0.000000e+00</td>\n",
       "      <td>0.000000e+00</td>\n",
       "      <td>-4.608086e+18</td>\n",
       "      <td>0.0</td>\n",
       "    </tr>\n",
       "    <tr>\n",
       "      <th>50%</th>\n",
       "      <td>4.651000e+03</td>\n",
       "      <td>4.651000e+03</td>\n",
       "      <td>1.000000e+00</td>\n",
       "      <td>1.000000e+00</td>\n",
       "      <td>1.316196e+15</td>\n",
       "      <td>0.0</td>\n",
       "    </tr>\n",
       "    <tr>\n",
       "      <th>75%</th>\n",
       "      <td>5.569000e+03</td>\n",
       "      <td>5.569000e+03</td>\n",
       "      <td>2.000000e+00</td>\n",
       "      <td>2.000000e+00</td>\n",
       "      <td>4.612455e+18</td>\n",
       "      <td>1.0</td>\n",
       "    </tr>\n",
       "    <tr>\n",
       "      <th>max</th>\n",
       "      <td>7.500000e+03</td>\n",
       "      <td>7.500000e+03</td>\n",
       "      <td>3.000000e+00</td>\n",
       "      <td>3.000000e+00</td>\n",
       "      <td>9.223364e+18</td>\n",
       "      <td>1.0</td>\n",
       "    </tr>\n",
       "  </tbody>\n",
       "</table>\n",
       "</div>"
      ],
      "text/plain": [
       "       player_trophies  opponent_trophies  player_score  opponent_score  \\\n",
       "count     6.203429e+06       6.203429e+06  6.203429e+06    6.203429e+06   \n",
       "mean      4.177939e+03       4.177939e+03  1.102455e+00    1.102456e+00   \n",
       "std       1.636007e+03       1.636007e+03  1.052663e+00    1.052663e+00   \n",
       "min       2.300000e+01       2.300000e+01  0.000000e+00    0.000000e+00   \n",
       "25%       2.664000e+03       2.664000e+03  0.000000e+00    0.000000e+00   \n",
       "50%       4.651000e+03       4.651000e+03  1.000000e+00    1.000000e+00   \n",
       "75%       5.569000e+03       5.569000e+03  2.000000e+00    2.000000e+00   \n",
       "max       7.500000e+03       7.500000e+03  3.000000e+00    3.000000e+00   \n",
       "\n",
       "          battle_id        win  \n",
       "count  6.203429e+06  6203047.0  \n",
       "mean   1.439181e+15        0.5  \n",
       "std    5.324576e+18        0.5  \n",
       "min   -9.223368e+18        0.0  \n",
       "25%   -4.608086e+18        0.0  \n",
       "50%    1.316196e+15        0.0  \n",
       "75%    4.612455e+18        1.0  \n",
       "max    9.223364e+18        1.0  "
      ]
     },
     "execution_count": 259,
     "metadata": {},
     "output_type": "execute_result"
    }
   ],
   "source": [
    "battles.describe()"
   ]
  },
  {
   "attachments": {},
   "cell_type": "markdown",
   "metadata": {},
   "source": [
    "We see that we have (count) battles.  We can see that the stats for `player_trophies` are roughly identical to the stats for `opponent_trophies`, and the same is true for scores. This is expected because we are storing each battle from both perspectives. This also causes the mean win value (0 or 1) to be almost exactly $\\frac{1}{2}$, as well as its standard deviation. We see that the trophy counts for our players range from 23 to 7500, meaning we have battles from close to edges of the possible trophy levels."
   ]
  },
  {
   "attachments": {},
   "cell_type": "markdown",
   "metadata": {},
   "source": [
    "### Matches by Trophy Level"
   ]
  },
  {
   "attachments": {},
   "cell_type": "markdown",
   "metadata": {},
   "source": [
    "To follow up, I want to look at the distribution of matches by trophy level. This will give us an idea of what skill level our players are at. To do this, I'll divide the matches into bins based on their trophy count."
   ]
  },
  {
   "cell_type": "code",
   "execution_count": 260,
   "metadata": {},
   "outputs": [],
   "source": [
    "bin_size = 30\n",
    "intervals_30 = range(0, 7501, bin_size) # 30 Trophy Intervals\n",
    "cut_battles = pd.cut(battles['player_trophies'], intervals_30, include_lowest=True, right=False)\n",
    "battles['trophy_bin'] = cut_battles\n",
    "match_counts = battles.groupby(by='trophy_bin')['battle_id'].count()"
   ]
  },
  {
   "attachments": {},
   "cell_type": "markdown",
   "metadata": {},
   "source": [
    "Now, lets plot the data. I'll change a few things to make the plots look better:"
   ]
  },
  {
   "cell_type": "code",
   "execution_count": 261,
   "metadata": {},
   "outputs": [],
   "source": [
    "# Use the Clash Royale font\n",
    "for font in font_manager.findSystemFonts(['images']):\n",
    "    font_manager.fontManager.addfont(font)\n",
    "plt.rcParams[\"font.family\"] = \"Supercell-Magic\"\n",
    "\n",
    "# Customize font sizes\n",
    "plt.rc('font', size=8) \n",
    "plt.rc('axes', labelsize=10) \n",
    "plt.rc('axes', titlesize=11)\n",
    "plt.rc('xtick', labelsize=8)  \n",
    "plt.rc('ytick', labelsize=8) \n",
    "plt.rc('legend', fontsize=8)\n",
    "plt.rc('figure', titlesize=13)"
   ]
  },
  {
   "cell_type": "code",
   "execution_count": 262,
   "metadata": {},
   "outputs": [],
   "source": [
    "# Function to format axes by removing the borders and setting the background color\n",
    "def format_ax(ax):\n",
    "    ax.spines['top'].set_visible(False)\n",
    "    ax.spines['right'].set_visible(False)\n",
    "    ax.spines['left'].set_visible(False)\n",
    "    ax.spines['bottom'].set_color(LINE_COLOR)\n",
    "    ax.tick_params(left=False)\n",
    "    ax.set_facecolor(BG_COLOR)"
   ]
  },
  {
   "attachments": {},
   "cell_type": "markdown",
   "metadata": {},
   "source": [
    "Now we can plot our data. I'll use a bar chart to visualize:"
   ]
  },
  {
   "cell_type": "code",
   "execution_count": 263,
   "metadata": {},
   "outputs": [
    {
     "data": {
      "image/png": "[encoded data removed]",
      "text/plain": [
       "<Figure size 800x500 with 1 Axes>"
      ]
     },
     "metadata": {},
     "output_type": "display_data"
    }
   ],
   "source": [
    "fig, ax = plt.subplots(figsize=(8,5)) # Create axes\n",
    "format_ax(ax) # Format\n",
    "ax.set_axisbelow(True) # Move axes to the back\n",
    "ax.yaxis.grid(True, color=LINE_COLOR) # Include y lines\n",
    "ax.xaxis.grid(False) # Exclude x lines\n",
    "# Format the x axis by multiplying by bin size\n",
    "formatter = tkr.FuncFormatter(lambda x, _: '{:.0f}'.format(x * bin_size))\n",
    "\n",
    "# Create bars\n",
    "ax.bar(range(len(intervals_30)-1), match_counts, width=1, align='edge', color=COLOR_1)\n",
    "ax.set(xlabel='Trophy Count', ylabel='Number of Matches')\n",
    "\n",
    "ax.xaxis.set_major_formatter(formatter) # Format x axis\n",
    "fig.suptitle('Number of Matches by Trophy Count')\n",
    "\n",
    "plt.plot(); # Plot the data"
   ]
  },
  {
   "attachments": {},
   "cell_type": "markdown",
   "metadata": {},
   "source": [
    "Overall, we see that there are many battles in the 1500-3000 trophy range, and many in the 4500-6000 range. The peaks in the 4500-6000 range are possibly due to the fact that before the recent major update, the ladder capped out at 5000, so many people are only now getting past 5000. I am not sure why 1500-3000 has more battles; it could be an artifact of my data collection strategy, or perhaps there is some reason that many players hover in that range.\n",
    "\n",
    "A major thing that I'm sure you've noticed is the sawtooth pattern. This exists because, as I mentioned previously, once a player enters an arena, they cannot fall below that level of trophies. Thus, players that lose more often than they win (players who are not skilled or levelled enough to complete the arena) will always hover around the lowest trophy count of their arena. It is less common for battles to occur in the higher trophy levels of an arena, because those that are successful enough to progress that far in the arena are likely skilled enough to move on to the next arena."
   ]
  },
  {
   "attachments": {},
   "cell_type": "markdown",
   "metadata": {},
   "source": [
    "### Matches by Deck"
   ]
  },
  {
   "attachments": {},
   "cell_type": "markdown",
   "metadata": {},
   "source": [
    "Next I want to look at how many people use each deck. This will give me an idea of whether players generally customize their decks or flock to a few popular decks."
   ]
  },
  {
   "cell_type": "code",
   "execution_count": 264,
   "metadata": {},
   "outputs": [],
   "source": [
    "users_per_deck = battles.groupby(by='player_deck')['battle_id'].count().sort_values(ascending=False)\n",
    "\n",
    "t100_upd = users_per_deck[:100]\n",
    "t1000_upd = users_per_deck[:1000]"
   ]
  },
  {
   "attachments": {},
   "cell_type": "markdown",
   "metadata": {},
   "source": [
    "I get the top 100 and top 1000 to show scale. There are hundreds of thousands of decks used in my dataset, so plotting all of them would take forever and prevent us from seeing the height of the important bars. "
   ]
  },
  {
   "cell_type": "code",
   "execution_count": 265,
   "metadata": {},
   "outputs": [
    {
     "data": {
      "image/png": "[encoded data removed]",
      "text/plain": [
       "<Figure size 1500x500 with 2 Axes>"
      ]
     },
     "metadata": {},
     "output_type": "display_data"
    }
   ],
   "source": [
    "fig, axs = plt.subplots(1, 2, figsize=(15,5)) # Create axes\n",
    "format_ax(axs[0]) # Format\n",
    "axs[0].set_axisbelow(True) # Move axes to the back\n",
    "axs[0].yaxis.grid(True, color=LINE_COLOR) # Include y lines\n",
    "axs[0].xaxis.grid(False) # Exclude x lines\n",
    "format_ax(axs[1])\n",
    "axs[1].set_axisbelow(True) # Move axes to the back\n",
    "axs[1].yaxis.grid(True, color=LINE_COLOR) # Include y lines\n",
    "axs[1].xaxis.grid(False) # Exclude x lines\n",
    "\n",
    "# Create bars\n",
    "axs[0].bar(range(100), t100_upd, width=1, color=COLOR_1)\n",
    "axs[0].set(xlabel='Deck #', ylabel='Number of Matches', title='Top 100 Decks')\n",
    "\n",
    "axs[1].bar(range(1000), t1000_upd, width=1, color=COLOR_1)\n",
    "axs[1].set(xlabel='Deck #', ylabel='Number of Matches', title='Top 1000 Decks')\n",
    "\n",
    "fig.suptitle('Number of Matches per Deck (Ordered by Popularity)')\n",
    "\n",
    "plt.plot(); # Plot the data"
   ]
  },
  {
   "attachments": {},
   "cell_type": "markdown",
   "metadata": {},
   "source": [
    "We can see that this resembles a power law distribution - A few decks account for many matches, while many decks only have a few matches. In the first graph, we see that the most popular deck was used in over 70000 matches, which is around 1.1%. This may seem small, but considering that there are over 400 billion possible decks, 1.1% shows huge popularity. In the second graph, we can see the true scale of the most popular deck in comparison to the others."
   ]
  },
  {
   "attachments": {},
   "cell_type": "markdown",
   "metadata": {},
   "source": [
    "### Most Popular Decks"
   ]
  },
  {
   "attachments": {},
   "cell_type": "markdown",
   "metadata": {},
   "source": [
    "So what is this most popular deck? Lets look at the 8 most popular decks - I'm curious if the 2nd, 3rd, ... most popular decks are just variations of the number 1, or if they are popular in their own right. To do this, I want to visualize the cards more intuitively. I'll first get the image URLs for each card."
   ]
  },
  {
   "cell_type": "code",
   "execution_count": 269,
   "metadata": {},
   "outputs": [],
   "source": [
    "# Fetch the cards from the API\n",
    "cards = requests.get(API_URL + '/cards', headers=AUTH_HEADER).json()\n",
    "\n",
    "# Build a dictionary of card names to their icon URLs\n",
    "card_urls = {}\n",
    "for card in cards['items']:\n",
    "    card_urls[card['name']] = card['iconUrls']['medium']"
   ]
  },
  {
   "attachments": {},
   "cell_type": "markdown",
   "metadata": {},
   "source": [
    "Now I'll define a function that displays a list of cards for us, and a function to convert a string representing a tuple of cards into a list that can be passed into `print_cards`. I use HTML in `print_cards` because displaying the images normally puts them each on a new line, which is horrible to look at. With HTML I can customize them to be all on one line. Additionally, I define a function to print text in the Clash Royale font."
   ]
  },
  {
   "cell_type": "code",
   "execution_count": 339,
   "metadata": {},
   "outputs": [],
   "source": [
    "def print_cards(cards):\n",
    "    htmlstr = '<div>' # Initialize empty div\n",
    "    for card in cards: # Add inline card HTML image to div\n",
    "        htmlstr += f'<img src=\"{card_urls[card]}\" width=\"60px\" title=\"{card}\" style=\"display:inline;\">'\n",
    "    htmlstr += '</div>' # Close the div\n",
    "    display(HTML(htmlstr)) # Display the string\n",
    "\n",
    "def deckstr_to_list(string):\n",
    "    # Splits and strips each element into a list, returns\n",
    "    return [s.strip()[1:-1] for s in string[1:-1].split(',')] \n",
    "\n",
    "def print_font(string):\n",
    "    html_styles = \"font-family:Supercell-Magic;margin:0px;\" # Styles\n",
    "    html = f'<p style=\"{html_styles}\">{string}</p>' # Full HTML String\n",
    "    display(HTML(html)) # Display the HTML"
   ]
  },
  {
   "attachments": {},
   "cell_type": "markdown",
   "metadata": {},
   "source": [
    "Now we can observe the most popular decks:"
   ]
  },
  {
   "cell_type": "code",
   "execution_count": 576,
   "metadata": {},
   "outputs": [
    {
     "data": {
      "text/html": [
       "<p style=\"font-family:Supercell-Magic;margin:0px;\">70387:</p>"
      ],
      "text/plain": [
       "<IPython.core.display.HTML object>"
      ]
     },
     "metadata": {},
     "output_type": "display_data"
    },
    {
     "data": {
      "text/html": [
       "<div><img src=\"https://api-assets.clashroyale.com/cards/300/nZK1y-beLxO5vnlyUhK6-2zH2NzXJwqykcosqQ1cmZ8.png\" width=\"60px\" title=\"Cannon\" style=\"display:inline;\"><img src=\"https://api-assets.clashroyale.com/cards/300/lZD9MILQv7O-P3XBr_xOLS5idwuz3_7Ws9G60U36yhc.png\" width=\"60px\" title=\"Fireball\" style=\"display:inline;\"><img src=\"https://api-assets.clashroyale.com/cards/300/Ubu0oUl8tZkusnkZf8Xv9Vno5IO29Y-jbZ4fhoNJ5oc.png\" width=\"60px\" title=\"Hog Rider\" style=\"display:inline;\"><img src=\"https://api-assets.clashroyale.com/cards/300/r05cmpwV1o7i7FHodtZwW3fmjbXCW34IJCsDEV5cZC4.png\" width=\"60px\" title=\"Ice Golem\" style=\"display:inline;\"><img src=\"https://api-assets.clashroyale.com/cards/300/lv1budiafU9XmSdrDkk0NYyqASAFYyZ06CPysXKZXlA.png\" width=\"60px\" title=\"Ice Spirit\" style=\"display:inline;\"><img src=\"https://api-assets.clashroyale.com/cards/300/Tex1C48UTq9FKtAX-3tzG0FJmc9jzncUZG3bb5Vf-Ds.png\" width=\"60px\" title=\"Musketeer\" style=\"display:inline;\"><img src=\"https://api-assets.clashroyale.com/cards/300/oO7iKMU5m0cdxhYPZA3nWQiAUh2yoGgdThLWB1rVSec.png\" width=\"60px\" title=\"Skeletons\" style=\"display:inline;\"><img src=\"https://api-assets.clashroyale.com/cards/300/_iDwuDLexHPFZ_x4_a0eP-rxCS6vwWgTs6DLauwwoaY.png\" width=\"60px\" title=\"The Log\" style=\"display:inline;\"></div>"
      ],
      "text/plain": [
       "<IPython.core.display.HTML object>"
      ]
     },
     "metadata": {},
     "output_type": "display_data"
    },
    {
     "data": {
      "text/html": [
       "<p style=\"font-family:Supercell-Magic;margin:0px;\">-----------------------------------------------------------------------------</p>"
      ],
      "text/plain": [
       "<IPython.core.display.HTML object>"
      ]
     },
     "metadata": {},
     "output_type": "display_data"
    },
    {
     "data": {
      "text/html": [
       "<p style=\"font-family:Supercell-Magic;margin:0px;\">35906:</p>"
      ],
      "text/plain": [
       "<IPython.core.display.HTML object>"
      ]
     },
     "metadata": {},
     "output_type": "display_data"
    },
    {
     "data": {
      "text/html": [
       "<div><img src=\"https://api-assets.clashroyale.com/cards/300/CoZdp5PpsTH858l212lAMeJxVJ0zxv9V-f5xC8Bvj5g.png\" width=\"60px\" title=\"Goblin Barrel\" style=\"display:inline;\"><img src=\"https://api-assets.clashroyale.com/cards/300/NHflxzVAQT4oAz7eDfdueqpictb5vrWezn1nuqFhE4w.png\" width=\"60px\" title=\"Goblin Gang\" style=\"display:inline;\"><img src=\"https://api-assets.clashroyale.com/cards/300/lv1budiafU9XmSdrDkk0NYyqASAFYyZ06CPysXKZXlA.png\" width=\"60px\" title=\"Ice Spirit\" style=\"display:inline;\"><img src=\"https://api-assets.clashroyale.com/cards/300/GSHY_wrooMMLET6bG_WJB8redtwx66c4i80ipi4gYOM.png\" width=\"60px\" title=\"Inferno Tower\" style=\"display:inline;\"><img src=\"https://api-assets.clashroyale.com/cards/300/jAj1Q5rclXxU9kVImGqSJxa4wEMfEhvwNQ_4jiGUuqg.png\" width=\"60px\" title=\"Knight\" style=\"display:inline;\"><img src=\"https://api-assets.clashroyale.com/cards/300/bAwMcqp9EKVIKH3ZLm_m0MqZFSG72zG-vKxpx8aKoVs.png\" width=\"60px\" title=\"Princess\" style=\"display:inline;\"><img src=\"https://api-assets.clashroyale.com/cards/300/Ie07nQNK9CjhKOa4-arFAewi4EroqaA-86Xo7r5tx94.png\" width=\"60px\" title=\"Rocket\" style=\"display:inline;\"><img src=\"https://api-assets.clashroyale.com/cards/300/_iDwuDLexHPFZ_x4_a0eP-rxCS6vwWgTs6DLauwwoaY.png\" width=\"60px\" title=\"The Log\" style=\"display:inline;\"></div>"
      ],
      "text/plain": [
       "<IPython.core.display.HTML object>"
      ]
     },
     "metadata": {},
     "output_type": "display_data"
    },
    {
     "data": {
      "text/html": [
       "<p style=\"font-family:Supercell-Magic;margin:0px;\">-----------------------------------------------------------------------------</p>"
      ],
      "text/plain": [
       "<IPython.core.display.HTML object>"
      ]
     },
     "metadata": {},
     "output_type": "display_data"
    },
    {
     "data": {
      "text/html": [
       "<p style=\"font-family:Supercell-Magic;margin:0px;\">23474:</p>"
      ],
      "text/plain": [
       "<IPython.core.display.HTML object>"
      ]
     },
     "metadata": {},
     "output_type": "display_data"
    },
    {
     "data": {
      "text/html": [
       "<div><img src=\"https://api-assets.clashroyale.com/cards/300/W4Hmp8MTSdXANN8KdblbtHwtsbt0o749BbxNqmJYfA8.png\" width=\"60px\" title=\"Archers\" style=\"display:inline;\"><img src=\"https://api-assets.clashroyale.com/cards/300/Flsoci-Y6y8ZFVi5uRFTmgkPnCmMyMVrU7YmmuPvSBo.png\" width=\"60px\" title=\"Arrows\" style=\"display:inline;\"><img src=\"https://api-assets.clashroyale.com/cards/300/lZD9MILQv7O-P3XBr_xOLS5idwuz3_7Ws9G60U36yhc.png\" width=\"60px\" title=\"Fireball\" style=\"display:inline;\"><img src=\"https://api-assets.clashroyale.com/cards/300/Axr4ox5_b7edmLsoHxBX3vmgijAIibuF6RImTbqLlXE.png\" width=\"60px\" title=\"Giant\" style=\"display:inline;\"><img src=\"https://api-assets.clashroyale.com/cards/300/jAj1Q5rclXxU9kVImGqSJxa4wEMfEhvwNQ_4jiGUuqg.png\" width=\"60px\" title=\"Knight\" style=\"display:inline;\"><img src=\"https://api-assets.clashroyale.com/cards/300/Fmltc4j3Ve9vO_xhHHPEO3PRP3SmU2oKp2zkZQHRZT4.png\" width=\"60px\" title=\"Mini P.E.K.K.A\" style=\"display:inline;\"><img src=\"https://api-assets.clashroyale.com/cards/300/yHGpoEnmUWPGV_hBbhn-Kk-Bs838OjGzWzJJlQpQKQA.png\" width=\"60px\" title=\"Minions\" style=\"display:inline;\"><img src=\"https://api-assets.clashroyale.com/cards/300/Tex1C48UTq9FKtAX-3tzG0FJmc9jzncUZG3bb5Vf-Ds.png\" width=\"60px\" title=\"Musketeer\" style=\"display:inline;\"></div>"
      ],
      "text/plain": [
       "<IPython.core.display.HTML object>"
      ]
     },
     "metadata": {},
     "output_type": "display_data"
    },
    {
     "data": {
      "text/html": [
       "<p style=\"font-family:Supercell-Magic;margin:0px;\">-----------------------------------------------------------------------------</p>"
      ],
      "text/plain": [
       "<IPython.core.display.HTML object>"
      ]
     },
     "metadata": {},
     "output_type": "display_data"
    },
    {
     "data": {
      "text/html": [
       "<p style=\"font-family:Supercell-Magic;margin:0px;\">17275:</p>"
      ],
      "text/plain": [
       "<IPython.core.display.HTML object>"
      ]
     },
     "metadata": {},
     "output_type": "display_data"
    },
    {
     "data": {
      "text/html": [
       "<div><img src=\"https://api-assets.clashroyale.com/cards/300/CoZdp5PpsTH858l212lAMeJxVJ0zxv9V-f5xC8Bvj5g.png\" width=\"60px\" title=\"Goblin Barrel\" style=\"display:inline;\"><img src=\"https://api-assets.clashroyale.com/cards/300/NHflxzVAQT4oAz7eDfdueqpictb5vrWezn1nuqFhE4w.png\" width=\"60px\" title=\"Goblin Gang\" style=\"display:inline;\"><img src=\"https://api-assets.clashroyale.com/cards/300/lv1budiafU9XmSdrDkk0NYyqASAFYyZ06CPysXKZXlA.png\" width=\"60px\" title=\"Ice Spirit\" style=\"display:inline;\"><img src=\"https://api-assets.clashroyale.com/cards/300/GSHY_wrooMMLET6bG_WJB8redtwx66c4i80ipi4gYOM.png\" width=\"60px\" title=\"Inferno Tower\" style=\"display:inline;\"><img src=\"https://api-assets.clashroyale.com/cards/300/bAwMcqp9EKVIKH3ZLm_m0MqZFSG72zG-vKxpx8aKoVs.png\" width=\"60px\" title=\"Princess\" style=\"display:inline;\"><img src=\"https://api-assets.clashroyale.com/cards/300/Ie07nQNK9CjhKOa4-arFAewi4EroqaA-86Xo7r5tx94.png\" width=\"60px\" title=\"Rocket\" style=\"display:inline;\"><img src=\"https://api-assets.clashroyale.com/cards/300/_iDwuDLexHPFZ_x4_a0eP-rxCS6vwWgTs6DLauwwoaY.png\" width=\"60px\" title=\"The Log\" style=\"display:inline;\"><img src=\"https://api-assets.clashroyale.com/cards/300/0lIoYf3Y_plFTzo95zZL93JVxpfb3MMgFDDhgSDGU9A.png\" width=\"60px\" title=\"Valkyrie\" style=\"display:inline;\"></div>"
      ],
      "text/plain": [
       "<IPython.core.display.HTML object>"
      ]
     },
     "metadata": {},
     "output_type": "display_data"
    },
    {
     "data": {
      "text/html": [
       "<p style=\"font-family:Supercell-Magic;margin:0px;\">-----------------------------------------------------------------------------</p>"
      ],
      "text/plain": [
       "<IPython.core.display.HTML object>"
      ]
     },
     "metadata": {},
     "output_type": "display_data"
    },
    {
     "data": {
      "text/html": [
       "<p style=\"font-family:Supercell-Magic;margin:0px;\">11283:</p>"
      ],
      "text/plain": [
       "<IPython.core.display.HTML object>"
      ]
     },
     "metadata": {},
     "output_type": "display_data"
    },
    {
     "data": {
      "text/html": [
       "<div><img src=\"https://api-assets.clashroyale.com/cards/300/QWDdXMKJNpv0go-HYaWQWP6p8uIOHjqn-zX7G0p3DyM.png\" width=\"60px\" title=\"Bandit\" style=\"display:inline;\"><img src=\"https://api-assets.clashroyale.com/cards/300/dyc50V2cplKi4H7pq1B3I36pl_sEH5DQrNHboS_dbbM.png\" width=\"60px\" title=\"Battle Ram\" style=\"display:inline;\"><img src=\"https://api-assets.clashroyale.com/cards/300/RsFaHgB3w6vXsTjXdPr3x8l_GbV9TbOUCvIx07prbrQ.png\" width=\"60px\" title=\"Electro Wizard\" style=\"display:inline;\"><img src=\"https://api-assets.clashroyale.com/cards/300/lZD9MILQv7O-P3XBr_xOLS5idwuz3_7Ws9G60U36yhc.png\" width=\"60px\" title=\"Fireball\" style=\"display:inline;\"><img src=\"https://api-assets.clashroyale.com/cards/300/Avli3W7BxU9HQ2SoLiXnBgGx25FoNXUSFm7OcAk68ek.png\" width=\"60px\" title=\"Magic Archer\" style=\"display:inline;\"><img src=\"https://api-assets.clashroyale.com/cards/300/MlArURKhn_zWAZY-Xj1qIRKLVKquarG25BXDjUQajNs.png\" width=\"60px\" title=\"P.E.K.K.A\" style=\"display:inline;\"><img src=\"https://api-assets.clashroyale.com/cards/300/3En2cz0ISQAaMTHY3hj3rTveFN2kJYq-H4VxvdJNvCM.png\" width=\"60px\" title=\"Royal Ghost\" style=\"display:inline;\"><img src=\"https://api-assets.clashroyale.com/cards/300/7dxh2-yCBy1x44GrBaL29vjqnEEeJXHEAlsi5g6D1eY.png\" width=\"60px\" title=\"Zap\" style=\"display:inline;\"></div>"
      ],
      "text/plain": [
       "<IPython.core.display.HTML object>"
      ]
     },
     "metadata": {},
     "output_type": "display_data"
    },
    {
     "data": {
      "text/html": [
       "<p style=\"font-family:Supercell-Magic;margin:0px;\">-----------------------------------------------------------------------------</p>"
      ],
      "text/plain": [
       "<IPython.core.display.HTML object>"
      ]
     },
     "metadata": {},
     "output_type": "display_data"
    },
    {
     "data": {
      "text/html": [
       "<p style=\"font-family:Supercell-Magic;margin:0px;\">9511:</p>"
      ],
      "text/plain": [
       "<IPython.core.display.HTML object>"
      ]
     },
     "metadata": {},
     "output_type": "display_data"
    },
    {
     "data": {
      "text/html": [
       "<div><img src=\"https://api-assets.clashroyale.com/cards/300/W4Hmp8MTSdXANN8KdblbtHwtsbt0o749BbxNqmJYfA8.png\" width=\"60px\" title=\"Archers\" style=\"display:inline;\"><img src=\"https://api-assets.clashroyale.com/cards/300/Flsoci-Y6y8ZFVi5uRFTmgkPnCmMyMVrU7YmmuPvSBo.png\" width=\"60px\" title=\"Arrows\" style=\"display:inline;\"><img src=\"https://api-assets.clashroyale.com/cards/300/12n1CesxKIcqVYntjxcF36EFA-ONw7Z-DoL0_rQrbdo.png\" width=\"60px\" title=\"Bomber\" style=\"display:inline;\"><img src=\"https://api-assets.clashroyale.com/cards/300/lZD9MILQv7O-P3XBr_xOLS5idwuz3_7Ws9G60U36yhc.png\" width=\"60px\" title=\"Fireball\" style=\"display:inline;\"><img src=\"https://api-assets.clashroyale.com/cards/300/Axr4ox5_b7edmLsoHxBX3vmgijAIibuF6RImTbqLlXE.png\" width=\"60px\" title=\"Giant\" style=\"display:inline;\"><img src=\"https://api-assets.clashroyale.com/cards/300/jAj1Q5rclXxU9kVImGqSJxa4wEMfEhvwNQ_4jiGUuqg.png\" width=\"60px\" title=\"Knight\" style=\"display:inline;\"><img src=\"https://api-assets.clashroyale.com/cards/300/yHGpoEnmUWPGV_hBbhn-Kk-Bs838OjGzWzJJlQpQKQA.png\" width=\"60px\" title=\"Minions\" style=\"display:inline;\"><img src=\"https://api-assets.clashroyale.com/cards/300/Tex1C48UTq9FKtAX-3tzG0FJmc9jzncUZG3bb5Vf-Ds.png\" width=\"60px\" title=\"Musketeer\" style=\"display:inline;\"></div>"
      ],
      "text/plain": [
       "<IPython.core.display.HTML object>"
      ]
     },
     "metadata": {},
     "output_type": "display_data"
    },
    {
     "data": {
      "text/html": [
       "<p style=\"font-family:Supercell-Magic;margin:0px;\">-----------------------------------------------------------------------------</p>"
      ],
      "text/plain": [
       "<IPython.core.display.HTML object>"
      ]
     },
     "metadata": {},
     "output_type": "display_data"
    },
    {
     "data": {
      "text/html": [
       "<p style=\"font-family:Supercell-Magic;margin:0px;\">9453:</p>"
      ],
      "text/plain": [
       "<IPython.core.display.HTML object>"
      ]
     },
     "metadata": {},
     "output_type": "display_data"
    },
    {
     "data": {
      "text/html": [
       "<div><img src=\"https://api-assets.clashroyale.com/cards/300/W4Hmp8MTSdXANN8KdblbtHwtsbt0o749BbxNqmJYfA8.png\" width=\"60px\" title=\"Archers\" style=\"display:inline;\"><img src=\"https://api-assets.clashroyale.com/cards/300/l8ZdzzNLcwB4u7ihGgxNFQOjCT_njFuAhZr7D6PRF7E.png\" width=\"60px\" title=\"Goblin Hut\" style=\"display:inline;\"><img src=\"https://api-assets.clashroyale.com/cards/300/yHGpoEnmUWPGV_hBbhn-Kk-Bs838OjGzWzJJlQpQKQA.png\" width=\"60px\" title=\"Minions\" style=\"display:inline;\"><img src=\"https://api-assets.clashroyale.com/cards/300/Tex1C48UTq9FKtAX-3tzG0FJmc9jzncUZG3bb5Vf-Ds.png\" width=\"60px\" title=\"Musketeer\" style=\"display:inline;\"><img src=\"https://api-assets.clashroyale.com/cards/300/Ie07nQNK9CjhKOa4-arFAewi4EroqaA-86Xo7r5tx94.png\" width=\"60px\" title=\"Rocket\" style=\"display:inline;\"><img src=\"https://api-assets.clashroyale.com/cards/300/FSDFotjaXidI4ku_WFpVCTWS1hKGnFh1sxX0lxM43_E.png\" width=\"60px\" title=\"Spear Goblins\" style=\"display:inline;\"><img src=\"https://api-assets.clashroyale.com/cards/300/LjSfSbwQfkZuRJY4pVxKspZ-a0iM5KAhU8w-a_N5Z7Y.png\" width=\"60px\" title=\"Tombstone\" style=\"display:inline;\"><img src=\"https://api-assets.clashroyale.com/cards/300/0lIoYf3Y_plFTzo95zZL93JVxpfb3MMgFDDhgSDGU9A.png\" width=\"60px\" title=\"Valkyrie\" style=\"display:inline;\"></div>"
      ],
      "text/plain": [
       "<IPython.core.display.HTML object>"
      ]
     },
     "metadata": {},
     "output_type": "display_data"
    },
    {
     "data": {
      "text/html": [
       "<p style=\"font-family:Supercell-Magic;margin:0px;\">-----------------------------------------------------------------------------</p>"
      ],
      "text/plain": [
       "<IPython.core.display.HTML object>"
      ]
     },
     "metadata": {},
     "output_type": "display_data"
    },
    {
     "data": {
      "text/html": [
       "<p style=\"font-family:Supercell-Magic;margin:0px;\">9231:</p>"
      ],
      "text/plain": [
       "<IPython.core.display.HTML object>"
      ]
     },
     "metadata": {},
     "output_type": "display_data"
    },
    {
     "data": {
      "text/html": [
       "<div><img src=\"https://api-assets.clashroyale.com/cards/300/W4Hmp8MTSdXANN8KdblbtHwtsbt0o749BbxNqmJYfA8.png\" width=\"60px\" title=\"Archers\" style=\"display:inline;\"><img src=\"https://api-assets.clashroyale.com/cards/300/Flsoci-Y6y8ZFVi5uRFTmgkPnCmMyMVrU7YmmuPvSBo.png\" width=\"60px\" title=\"Arrows\" style=\"display:inline;\"><img src=\"https://api-assets.clashroyale.com/cards/300/lZD9MILQv7O-P3XBr_xOLS5idwuz3_7Ws9G60U36yhc.png\" width=\"60px\" title=\"Fireball\" style=\"display:inline;\"><img src=\"https://api-assets.clashroyale.com/cards/300/Axr4ox5_b7edmLsoHxBX3vmgijAIibuF6RImTbqLlXE.png\" width=\"60px\" title=\"Giant\" style=\"display:inline;\"><img src=\"https://api-assets.clashroyale.com/cards/300/X_DQUye_OaS3QN6VC9CPw05Fit7wvSm3XegXIXKP--0.png\" width=\"60px\" title=\"Goblins\" style=\"display:inline;\"><img src=\"https://api-assets.clashroyale.com/cards/300/jAj1Q5rclXxU9kVImGqSJxa4wEMfEhvwNQ_4jiGUuqg.png\" width=\"60px\" title=\"Knight\" style=\"display:inline;\"><img src=\"https://api-assets.clashroyale.com/cards/300/yHGpoEnmUWPGV_hBbhn-Kk-Bs838OjGzWzJJlQpQKQA.png\" width=\"60px\" title=\"Minions\" style=\"display:inline;\"><img src=\"https://api-assets.clashroyale.com/cards/300/Tex1C48UTq9FKtAX-3tzG0FJmc9jzncUZG3bb5Vf-Ds.png\" width=\"60px\" title=\"Musketeer\" style=\"display:inline;\"></div>"
      ],
      "text/plain": [
       "<IPython.core.display.HTML object>"
      ]
     },
     "metadata": {},
     "output_type": "display_data"
    },
    {
     "data": {
      "text/html": [
       "<p style=\"font-family:Supercell-Magic;margin:0px;\">-----------------------------------------------------------------------------</p>"
      ],
      "text/plain": [
       "<IPython.core.display.HTML object>"
      ]
     },
     "metadata": {},
     "output_type": "display_data"
    }
   ],
   "source": [
    "# Get decks sorted by popularity\n",
    "decks_by_pop = battles.groupby(by='player_deck')['battle_id'].count().sort_values(ascending=False)\n",
    "top_decks = decks_by_pop[:8] # Get the deck for the top 8 entries\n",
    "for deck, matches in top_decks.items():\n",
    "    print_font(f'{matches}:')\n",
    "    print_cards(deckstr_to_list(deck)) # Display the cards\n",
    "    print_font('-'*77) # Divider"
   ]
  },
  {
   "attachments": {},
   "cell_type": "markdown",
   "metadata": {},
   "source": [
    "(Hover over a card for a couple seconds to see its name.) The top deck doesn't seem to be similar to the others, but I do notice that decks 3, 6, and 8 are very similar. These decks are made up of cards earned in Arenas 1 and 2, so they are likely popular because there aren't many customization options at that level. I also see certain cards being used frequently, like [Fireball](https://clashroyale.fandom.com/wiki/Fireball) or [Ice Spirit](https://clashroyale.fandom.com/wiki/Ice_Spirit). Let's see what the most popular individual cards are:"
   ]
  },
  {
   "cell_type": "code",
   "execution_count": 272,
   "metadata": {},
   "outputs": [],
   "source": [
    "count = {}\n",
    "for deck in battles['player_deck']:\n",
    "    for card in deckstr_to_list(deck):\n",
    "        if card in count.keys():\n",
    "            count[card] += 1\n",
    "        else:\n",
    "            count[card] = 1"
   ]
  },
  {
   "attachments": {},
   "cell_type": "markdown",
   "metadata": {},
   "source": [
    "Now we can display them:"
   ]
  },
  {
   "cell_type": "code",
   "execution_count": 279,
   "metadata": {},
   "outputs": [
    {
     "data": {
      "text/html": [
       "<div><img src=\"https://api-assets.clashroyale.com/cards/300/0lIoYf3Y_plFTzo95zZL93JVxpfb3MMgFDDhgSDGU9A.png\" width=\"60px\" title=\"Valkyrie\" style=\"display:inline;\"><img src=\"https://api-assets.clashroyale.com/cards/300/fAOToOi1pRy7svN2xQS6mDkhQw2pj9m_17FauaNqyl4.png\" width=\"60px\" title=\"Skeleton Army\" style=\"display:inline;\"><img src=\"https://api-assets.clashroyale.com/cards/300/CoZdp5PpsTH858l212lAMeJxVJ0zxv9V-f5xC8Bvj5g.png\" width=\"60px\" title=\"Goblin Barrel\" style=\"display:inline;\"><img src=\"https://api-assets.clashroyale.com/cards/300/cfwk1vzehVyHC-uloEIH6NOI0hOdofCutR5PyhIgO6w.png\" width=\"60px\" title=\"Witch\" style=\"display:inline;\"><img src=\"https://api-assets.clashroyale.com/cards/300/Mej7vnv4H_3p_8qPs_N6_GKahy6HDr7pU7i9eTHS84U.png\" width=\"60px\" title=\"Wizard\" style=\"display:inline;\"><img src=\"https://api-assets.clashroyale.com/cards/300/Fmltc4j3Ve9vO_xhHHPEO3PRP3SmU2oKp2zkZQHRZT4.png\" width=\"60px\" title=\"Mini P.E.K.K.A\" style=\"display:inline;\"><img src=\"https://api-assets.clashroyale.com/cards/300/Flsoci-Y6y8ZFVi5uRFTmgkPnCmMyMVrU7YmmuPvSBo.png\" width=\"60px\" title=\"Arrows\" style=\"display:inline;\"><img src=\"https://api-assets.clashroyale.com/cards/300/Ubu0oUl8tZkusnkZf8Xv9Vno5IO29Y-jbZ4fhoNJ5oc.png\" width=\"60px\" title=\"Hog Rider\" style=\"display:inline;\"><img src=\"https://api-assets.clashroyale.com/cards/300/_iDwuDLexHPFZ_x4_a0eP-rxCS6vwWgTs6DLauwwoaY.png\" width=\"60px\" title=\"The Log\" style=\"display:inline;\"><img src=\"https://api-assets.clashroyale.com/cards/300/cjC9n4AvEZJ3urkVh-rwBkJ-aRSsydIMqSAV48hAih0.png\" width=\"60px\" title=\"Baby Dragon\" style=\"display:inline;\"></div>"
      ],
      "text/plain": [
       "<IPython.core.display.HTML object>"
      ]
     },
     "metadata": {},
     "output_type": "display_data"
    }
   ],
   "source": [
    "cards_by_pop = sorted(list(count.keys()), key=lambda card: count[card], reverse=True)\n",
    "top_cards = cards_by_pop[:10]\n",
    "print_cards(top_cards)"
   ]
  },
  {
   "attachments": {},
   "cell_type": "markdown",
   "metadata": {},
   "source": [
    "These are not the cards I would have expected. The most popular, [Valkyrie](https://clashroyale.fandom.com/wiki/Valkyrie), is only in 2 of the top 8 decks, and the second most popular, [Skeleton Army](https://clashroyale.fandom.com/wiki/Skeleton_Army), isn't in any. It seems that people who make their own deck instead of choosing a popular one tend to use these cards more. I can attest; I made my own deck, and Valkyrie and Skeleton Army are both in it."
   ]
  },
  {
   "attachments": {},
   "cell_type": "markdown",
   "metadata": {},
   "source": [
    "We looked at a few decks that are very popular in lower arenas, but I'm curious - what are the most popular decks for each trophy level? I assume the decks that are popular in Arena 1 won't necessarily be the most effective at Arena 20, and the decks used in Arena 20 aren't even accessible to players in Arena 1. To do this, we need to put the data into bins again. This time, I'll use a bin size of 500."
   ]
  },
  {
   "cell_type": "code",
   "execution_count": 274,
   "metadata": {},
   "outputs": [],
   "source": [
    "bin_size = 500\n",
    "intervals_500 = range(0, 7501, bin_size) # Trophy bin counts\n",
    "# Create bins of trophies\n",
    "cut_battles = pd.cut(battles['player_trophies'], intervals_500, include_lowest=True, right=False)\n",
    "battles['trophy_bin'] = cut_battles # Add column to DataFrame"
   ]
  },
  {
   "attachments": {},
   "cell_type": "markdown",
   "metadata": {},
   "source": [
    "Now we can group by these larger bins and get the mode for each bin."
   ]
  },
  {
   "cell_type": "code",
   "execution_count": 275,
   "metadata": {},
   "outputs": [],
   "source": [
    "decks_by_trophies = battles.groupby(by=cut_battles)['player_deck'].agg(pd.Series.mode)\n",
    "bin_top_decks = {}\n",
    "p_deck = ''\n",
    "p_interval = None\n",
    "for interval, deck in decks_by_trophies.items():\n",
    "    if deck != p_deck:\n",
    "        if p_interval != None:\n",
    "            bin_top_decks[p_interval] = p_deck\n",
    "        p_deck = deck\n",
    "        p_interval = interval\n",
    "    else:\n",
    "        lb = p_interval.left\n",
    "        rb = interval.right\n",
    "        p_interval = pd.Interval(lb, rb, closed='left')\n",
    "bin_top_decks[p_interval] = p_deck"
   ]
  },
  {
   "cell_type": "code",
   "execution_count": 575,
   "metadata": {},
   "outputs": [
    {
     "data": {
      "text/html": [
       "<p style=\"font-family:Supercell-Magic;margin:0px;\">[0, 2000)</p>"
      ],
      "text/plain": [
       "<IPython.core.display.HTML object>"
      ]
     },
     "metadata": {},
     "output_type": "display_data"
    },
    {
     "data": {
      "text/html": [
       "<div><img src=\"https://api-assets.clashroyale.com/cards/300/W4Hmp8MTSdXANN8KdblbtHwtsbt0o749BbxNqmJYfA8.png\" width=\"60px\" title=\"Archers\" style=\"display:inline;\"><img src=\"https://api-assets.clashroyale.com/cards/300/Flsoci-Y6y8ZFVi5uRFTmgkPnCmMyMVrU7YmmuPvSBo.png\" width=\"60px\" title=\"Arrows\" style=\"display:inline;\"><img src=\"https://api-assets.clashroyale.com/cards/300/lZD9MILQv7O-P3XBr_xOLS5idwuz3_7Ws9G60U36yhc.png\" width=\"60px\" title=\"Fireball\" style=\"display:inline;\"><img src=\"https://api-assets.clashroyale.com/cards/300/Axr4ox5_b7edmLsoHxBX3vmgijAIibuF6RImTbqLlXE.png\" width=\"60px\" title=\"Giant\" style=\"display:inline;\"><img src=\"https://api-assets.clashroyale.com/cards/300/jAj1Q5rclXxU9kVImGqSJxa4wEMfEhvwNQ_4jiGUuqg.png\" width=\"60px\" title=\"Knight\" style=\"display:inline;\"><img src=\"https://api-assets.clashroyale.com/cards/300/Fmltc4j3Ve9vO_xhHHPEO3PRP3SmU2oKp2zkZQHRZT4.png\" width=\"60px\" title=\"Mini P.E.K.K.A\" style=\"display:inline;\"><img src=\"https://api-assets.clashroyale.com/cards/300/yHGpoEnmUWPGV_hBbhn-Kk-Bs838OjGzWzJJlQpQKQA.png\" width=\"60px\" title=\"Minions\" style=\"display:inline;\"><img src=\"https://api-assets.clashroyale.com/cards/300/Tex1C48UTq9FKtAX-3tzG0FJmc9jzncUZG3bb5Vf-Ds.png\" width=\"60px\" title=\"Musketeer\" style=\"display:inline;\"></div>"
      ],
      "text/plain": [
       "<IPython.core.display.HTML object>"
      ]
     },
     "metadata": {},
     "output_type": "display_data"
    },
    {
     "data": {
      "text/html": [
       "<p style=\"font-family:Supercell-Magic;margin:0px;\">-----------------------------------------------------------------------------</p>"
      ],
      "text/plain": [
       "<IPython.core.display.HTML object>"
      ]
     },
     "metadata": {},
     "output_type": "display_data"
    },
    {
     "data": {
      "text/html": [
       "<p style=\"font-family:Supercell-Magic;margin:0px;\">[2000, 2500)</p>"
      ],
      "text/plain": [
       "<IPython.core.display.HTML object>"
      ]
     },
     "metadata": {},
     "output_type": "display_data"
    },
    {
     "data": {
      "text/html": [
       "<div><img src=\"https://api-assets.clashroyale.com/cards/300/W4Hmp8MTSdXANN8KdblbtHwtsbt0o749BbxNqmJYfA8.png\" width=\"60px\" title=\"Archers\" style=\"display:inline;\"><img src=\"https://api-assets.clashroyale.com/cards/300/l8ZdzzNLcwB4u7ihGgxNFQOjCT_njFuAhZr7D6PRF7E.png\" width=\"60px\" title=\"Goblin Hut\" style=\"display:inline;\"><img src=\"https://api-assets.clashroyale.com/cards/300/yHGpoEnmUWPGV_hBbhn-Kk-Bs838OjGzWzJJlQpQKQA.png\" width=\"60px\" title=\"Minions\" style=\"display:inline;\"><img src=\"https://api-assets.clashroyale.com/cards/300/Tex1C48UTq9FKtAX-3tzG0FJmc9jzncUZG3bb5Vf-Ds.png\" width=\"60px\" title=\"Musketeer\" style=\"display:inline;\"><img src=\"https://api-assets.clashroyale.com/cards/300/Ie07nQNK9CjhKOa4-arFAewi4EroqaA-86Xo7r5tx94.png\" width=\"60px\" title=\"Rocket\" style=\"display:inline;\"><img src=\"https://api-assets.clashroyale.com/cards/300/FSDFotjaXidI4ku_WFpVCTWS1hKGnFh1sxX0lxM43_E.png\" width=\"60px\" title=\"Spear Goblins\" style=\"display:inline;\"><img src=\"https://api-assets.clashroyale.com/cards/300/LjSfSbwQfkZuRJY4pVxKspZ-a0iM5KAhU8w-a_N5Z7Y.png\" width=\"60px\" title=\"Tombstone\" style=\"display:inline;\"><img src=\"https://api-assets.clashroyale.com/cards/300/0lIoYf3Y_plFTzo95zZL93JVxpfb3MMgFDDhgSDGU9A.png\" width=\"60px\" title=\"Valkyrie\" style=\"display:inline;\"></div>"
      ],
      "text/plain": [
       "<IPython.core.display.HTML object>"
      ]
     },
     "metadata": {},
     "output_type": "display_data"
    },
    {
     "data": {
      "text/html": [
       "<p style=\"font-family:Supercell-Magic;margin:0px;\">-----------------------------------------------------------------------------</p>"
      ],
      "text/plain": [
       "<IPython.core.display.HTML object>"
      ]
     },
     "metadata": {},
     "output_type": "display_data"
    },
    {
     "data": {
      "text/html": [
       "<p style=\"font-family:Supercell-Magic;margin:0px;\">[2500, 3000)</p>"
      ],
      "text/plain": [
       "<IPython.core.display.HTML object>"
      ]
     },
     "metadata": {},
     "output_type": "display_data"
    },
    {
     "data": {
      "text/html": [
       "<div><img src=\"https://api-assets.clashroyale.com/cards/300/Gb0G1yNy0i5cIGUHin8uoFWxqntNtRPhY_jeMXg7HnA.png\" width=\"60px\" title=\"Barbarian Barrel\" style=\"display:inline;\"><img src=\"https://api-assets.clashroyale.com/cards/300/nZK1y-beLxO5vnlyUhK6-2zH2NzXJwqykcosqQ1cmZ8.png\" width=\"60px\" title=\"Cannon\" style=\"display:inline;\"><img src=\"https://api-assets.clashroyale.com/cards/300/lZD9MILQv7O-P3XBr_xOLS5idwuz3_7Ws9G60U36yhc.png\" width=\"60px\" title=\"Fireball\" style=\"display:inline;\"><img src=\"https://api-assets.clashroyale.com/cards/300/Ubu0oUl8tZkusnkZf8Xv9Vno5IO29Y-jbZ4fhoNJ5oc.png\" width=\"60px\" title=\"Hog Rider\" style=\"display:inline;\"><img src=\"https://api-assets.clashroyale.com/cards/300/r05cmpwV1o7i7FHodtZwW3fmjbXCW34IJCsDEV5cZC4.png\" width=\"60px\" title=\"Ice Golem\" style=\"display:inline;\"><img src=\"https://api-assets.clashroyale.com/cards/300/lv1budiafU9XmSdrDkk0NYyqASAFYyZ06CPysXKZXlA.png\" width=\"60px\" title=\"Ice Spirit\" style=\"display:inline;\"><img src=\"https://api-assets.clashroyale.com/cards/300/Tex1C48UTq9FKtAX-3tzG0FJmc9jzncUZG3bb5Vf-Ds.png\" width=\"60px\" title=\"Musketeer\" style=\"display:inline;\"><img src=\"https://api-assets.clashroyale.com/cards/300/oO7iKMU5m0cdxhYPZA3nWQiAUh2yoGgdThLWB1rVSec.png\" width=\"60px\" title=\"Skeletons\" style=\"display:inline;\"></div>"
      ],
      "text/plain": [
       "<IPython.core.display.HTML object>"
      ]
     },
     "metadata": {},
     "output_type": "display_data"
    },
    {
     "data": {
      "text/html": [
       "<p style=\"font-family:Supercell-Magic;margin:0px;\">-----------------------------------------------------------------------------</p>"
      ],
      "text/plain": [
       "<IPython.core.display.HTML object>"
      ]
     },
     "metadata": {},
     "output_type": "display_data"
    },
    {
     "data": {
      "text/html": [
       "<p style=\"font-family:Supercell-Magic;margin:0px;\">[3000, 7000)</p>"
      ],
      "text/plain": [
       "<IPython.core.display.HTML object>"
      ]
     },
     "metadata": {},
     "output_type": "display_data"
    },
    {
     "data": {
      "text/html": [
       "<div><img src=\"https://api-assets.clashroyale.com/cards/300/nZK1y-beLxO5vnlyUhK6-2zH2NzXJwqykcosqQ1cmZ8.png\" width=\"60px\" title=\"Cannon\" style=\"display:inline;\"><img src=\"https://api-assets.clashroyale.com/cards/300/lZD9MILQv7O-P3XBr_xOLS5idwuz3_7Ws9G60U36yhc.png\" width=\"60px\" title=\"Fireball\" style=\"display:inline;\"><img src=\"https://api-assets.clashroyale.com/cards/300/Ubu0oUl8tZkusnkZf8Xv9Vno5IO29Y-jbZ4fhoNJ5oc.png\" width=\"60px\" title=\"Hog Rider\" style=\"display:inline;\"><img src=\"https://api-assets.clashroyale.com/cards/300/r05cmpwV1o7i7FHodtZwW3fmjbXCW34IJCsDEV5cZC4.png\" width=\"60px\" title=\"Ice Golem\" style=\"display:inline;\"><img src=\"https://api-assets.clashroyale.com/cards/300/lv1budiafU9XmSdrDkk0NYyqASAFYyZ06CPysXKZXlA.png\" width=\"60px\" title=\"Ice Spirit\" style=\"display:inline;\"><img src=\"https://api-assets.clashroyale.com/cards/300/Tex1C48UTq9FKtAX-3tzG0FJmc9jzncUZG3bb5Vf-Ds.png\" width=\"60px\" title=\"Musketeer\" style=\"display:inline;\"><img src=\"https://api-assets.clashroyale.com/cards/300/oO7iKMU5m0cdxhYPZA3nWQiAUh2yoGgdThLWB1rVSec.png\" width=\"60px\" title=\"Skeletons\" style=\"display:inline;\"><img src=\"https://api-assets.clashroyale.com/cards/300/_iDwuDLexHPFZ_x4_a0eP-rxCS6vwWgTs6DLauwwoaY.png\" width=\"60px\" title=\"The Log\" style=\"display:inline;\"></div>"
      ],
      "text/plain": [
       "<IPython.core.display.HTML object>"
      ]
     },
     "metadata": {},
     "output_type": "display_data"
    },
    {
     "data": {
      "text/html": [
       "<p style=\"font-family:Supercell-Magic;margin:0px;\">-----------------------------------------------------------------------------</p>"
      ],
      "text/plain": [
       "<IPython.core.display.HTML object>"
      ]
     },
     "metadata": {},
     "output_type": "display_data"
    },
    {
     "data": {
      "text/html": [
       "<p style=\"font-family:Supercell-Magic;margin:0px;\">[7000, 7500)</p>"
      ],
      "text/plain": [
       "<IPython.core.display.HTML object>"
      ]
     },
     "metadata": {},
     "output_type": "display_data"
    },
    {
     "data": {
      "text/html": [
       "<div><img src=\"https://api-assets.clashroyale.com/cards/300/nZK1y-beLxO5vnlyUhK6-2zH2NzXJwqykcosqQ1cmZ8.png\" width=\"60px\" title=\"Cannon\" style=\"display:inline;\"><img src=\"https://api-assets.clashroyale.com/cards/300/CoZdp5PpsTH858l212lAMeJxVJ0zxv9V-f5xC8Bvj5g.png\" width=\"60px\" title=\"Goblin Barrel\" style=\"display:inline;\"><img src=\"https://api-assets.clashroyale.com/cards/300/X_DQUye_OaS3QN6VC9CPw05Fit7wvSm3XegXIXKP--0.png\" width=\"60px\" title=\"Goblins\" style=\"display:inline;\"><img src=\"https://api-assets.clashroyale.com/cards/300/lv1budiafU9XmSdrDkk0NYyqASAFYyZ06CPysXKZXlA.png\" width=\"60px\" title=\"Ice Spirit\" style=\"display:inline;\"><img src=\"https://api-assets.clashroyale.com/cards/300/Cd9R56yraxTvJiD8xJ2qT2OdsHyh94FqOAarXpbyelo.png\" width=\"60px\" title=\"Mighty Miner\" style=\"display:inline;\"><img src=\"https://api-assets.clashroyale.com/cards/300/bAwMcqp9EKVIKH3ZLm_m0MqZFSG72zG-vKxpx8aKoVs.png\" width=\"60px\" title=\"Princess\" style=\"display:inline;\"><img src=\"https://api-assets.clashroyale.com/cards/300/Ie07nQNK9CjhKOa4-arFAewi4EroqaA-86Xo7r5tx94.png\" width=\"60px\" title=\"Rocket\" style=\"display:inline;\"><img src=\"https://api-assets.clashroyale.com/cards/300/_iDwuDLexHPFZ_x4_a0eP-rxCS6vwWgTs6DLauwwoaY.png\" width=\"60px\" title=\"The Log\" style=\"display:inline;\"></div>"
      ],
      "text/plain": [
       "<IPython.core.display.HTML object>"
      ]
     },
     "metadata": {},
     "output_type": "display_data"
    },
    {
     "data": {
      "text/html": [
       "<p style=\"font-family:Supercell-Magic;margin:0px;\">-----------------------------------------------------------------------------</p>"
      ],
      "text/plain": [
       "<IPython.core.display.HTML object>"
      ]
     },
     "metadata": {},
     "output_type": "display_data"
    }
   ],
   "source": [
    "for interval in bin_top_decks.keys():\n",
    "    print_font(str(interval))\n",
    "    print_cards(deckstr_to_list(bin_top_decks[interval]))\n",
    "    print_font('-'*77) # Divider"
   ]
  },
  {
   "cell_type": "code",
   "execution_count": null,
   "metadata": {},
   "outputs": [],
   "source": []
  },
  {
   "attachments": {},
   "cell_type": "markdown",
   "metadata": {},
   "source": [
    "We see that players from 0-2000 trophies frequently use the Arena 1 starter deck. Players from 2000-2500 trophies use a unique deck that's somewhat similar to the 0-2000 deck but takes advantage of some of the cards unlocked since then. \n",
    "\n",
    "Players from 3000-7000 frequently use the deck that we previously found to be the most popular overall. This deck is known as the [2.6 Hog Cycle](https://clashroyale.fandom.com/wiki/Deck:2.6_Hog_Cycle) deck, named for the [Hog Rider](https://clashroyale.fandom.com/wiki/Hog_Rider) card and the fact that its cards use on average 2.6 elixir. The deck from 2500-3000 seems to be almost exactly the same, except they replace [The Log](https://clashroyale.fandom.com/wiki/The_Log) with [Barbarian Barrel](https://clashroyale.fandom.com/wiki/Barbarian_Barrel) (which has a similar function), because The Log is not typically unlocked until 3400 trophies. (It is possible to unlock earlier, but less likely.) \n",
    "\n",
    "We don't see a new most popular deck until 7000 trophies, at the top of the ladder. This is probably because the 2.6 Hog Cycle is less effective at these higher levels compared to the cards unlocked at this stage, like the Champion [Mighty Miner](https://clashroyale.fandom.com/wiki/Mighty_Miner)."
   ]
  },
  {
   "attachments": {},
   "cell_type": "markdown",
   "metadata": {},
   "source": [
    "### Win Rate by Deck and Trophy Level"
   ]
  },
  {
   "attachments": {},
   "cell_type": "markdown",
   "metadata": {},
   "source": [
    "It would be interesting to see visually where each deck becomes less effective. To do this, we can graph the win rate of each of these decks by trophy count."
   ]
  },
  {
   "cell_type": "code",
   "execution_count": 323,
   "metadata": {},
   "outputs": [
    {
     "data": {
      "image/png": "[encoded data removed]",
      "text/plain": [
       "<Figure size 1400x700 with 11 Axes>"
      ]
     },
     "metadata": {},
     "output_type": "display_data"
    }
   ],
   "source": [
    "# Create axes and formatters\n",
    "fig, axs = plt.subplots(2, 3, figsize=(14,7), constrained_layout=True)\n",
    "x_formatter = tkr.FuncFormatter(lambda x, _: '{:.0f}k'.format(x * bin_size / 1000))\n",
    "y_formatter = tkr.FuncFormatter(lambda y, _: '{:.0f}%'.format(y * 100.0))\n",
    "y2_formatter = tkr.FuncFormatter(lambda y, _: '{:.1f}k'.format(y / 1000.0) if y > 999 else '{:.0f}'.format(y))\n",
    "\n",
    "for i, interval in enumerate(bin_top_decks): # Loop through each top deck\n",
    "    deck = bin_top_decks[interval]\n",
    "    data_groupby = battles[battles['player_deck'] == deck].groupby(by='trophy_bin')\n",
    "    win_rates = data_groupby['win'].mean() # Get win rates and number of matches\n",
    "    num_users = data_groupby['battle_id'].count()\n",
    "\n",
    "    tax = axs[i // 3, i % 3] # Get the current axes\n",
    "    tax2 = tax.twinx()\n",
    "\n",
    "    format_ax(tax) # Format\n",
    "    tax.set_axisbelow(True) # Move axes to the back\n",
    "    format_ax(tax2) # Format\n",
    "    tax2.set_axisbelow(True) # Move axes to the back\n",
    "    tax.yaxis.grid(True, color=LINE_COLOR) # Include y lines\n",
    "    tax.xaxis.grid(True, color=LINE_COLOR) # Include x lines\n",
    "\n",
    "    tax.plot(range(15), win_rates, color=COLOR_1, linewidth=2.5) # Plot win rate\n",
    "    tax.set(xlabel='Trophy Count', ylabel='Win Rate', title=f'Top deck for {interval}', ylim=[0,1])\n",
    "    tax.xaxis.set_major_formatter(x_formatter) # Format x axis\n",
    "    tax.yaxis.set_major_formatter(y_formatter) # Format y axis\n",
    "    \n",
    "    tax2.plot(range(15), num_users, color=COLOR_2, linewidth=2.5) # Plot number of matches\n",
    "    tax2.set_ylabel('Number of Matches')\n",
    "    tax2.yaxis.set_major_formatter(y2_formatter) # Format y axis\n",
    "\n",
    "# Create legend in the 6th axes\n",
    "legend_elements = [Line2D([0], [0], marker='s', color='w', label='Win Rate', markerfacecolor=COLOR_1, markersize=10),\n",
    "                   Line2D([0], [0], marker='s', color='w', label='Number of Matches', markerfacecolor=COLOR_2, markersize=10)]\n",
    "axs[1,2].legend(handles=legend_elements, loc='center', prop={'size': 16})\n",
    "axs[1,2].axis('off')\n",
    "\n",
    "fig.suptitle('Win Rate and Usage of Top Decks by Trophy Count')\n",
    "plt.show(); # Show figure"
   ]
  },
  {
   "attachments": {},
   "cell_type": "markdown",
   "metadata": {},
   "source": [
    "Interestingly, the first 3 decks don't seem to be very effective at the trophy levels where they're most used. [0, 2000) deck (the Arena 1 starter deck) seems to have a roughly 30% win rate in Arena 1, dropping to under 20% at 2000 trophies (Arena 7). After that, the deck doesn't get used much at all, so win rates there aren't statistically significant. Why is this deck used so frequently if it has such a low win rate? It could be because this is the default starter deck, and some players never bother to switch up their deck until they have a lot of new cards.\n",
    "\n",
    "The [2000, 2500) deck does poorly as well, with less than a 20% win rate in that trophy range. I'm not sure why players would choose this deck. Maybe a popular content creator uses this deck? The [2500, 3000) deck (the budget 2.6 Hog Cycle) does poorly but is probably popular because players want to try using the 2.6 Hog Cycle as early as possible.\n",
    "\n",
    "The [3000, 7000) deck (2.6 Hog Cycle) does pretty well, with a 40-50% win rate throughout all of its usage. I have a feeling it used to be more effective (I only have the past week's worth of data so I can't confirm), with a >50% win rate, but 2.6 Hog Cycle has been the prevailing deck (the 'meta') for many months at this point, so decks effective at countering it have likely grown in popularity. If its win rate continues to decrease, it may soon lose its status as the most popular deck. This cycle happens frequently in the Clash Royale meta.\n",
    "\n",
    "Finally, the [7000, 7500) deck seems to have a roughly 50% win rate in that trophy interval. Players at the top of the ladder are probably more likely to pick a deck that has a high win rate."
   ]
  },
  {
   "attachments": {},
   "cell_type": "markdown",
   "metadata": {},
   "source": [
    "### Best Decks for My Arena"
   ]
  },
  {
   "attachments": {},
   "cell_type": "markdown",
   "metadata": {},
   "source": [
    "I am currently in the [5000, 5500) interval (Arena 15). While 2.6 Hog Cycle is the most popular deck for this arena, I want to find the best deck. I obviously don't have data on all >400 billion decks - the majority of them have never been played. Thus, I'll be forced to use a deck that has been used in the past. As long as it has a more than 50% win rate, I'll be happy.\n",
    "\n",
    "Let's first look at our decks, sorted by win rate in Arena 15."
   ]
  },
  {
   "cell_type": "code",
   "execution_count": 572,
   "metadata": {},
   "outputs": [
    {
     "data": {
      "text/html": [
       "<p style=\"font-family:Supercell-Magic;margin:0px;\">Win Rate: 100.0%</p>"
      ],
      "text/plain": [
       "<IPython.core.display.HTML object>"
      ]
     },
     "metadata": {},
     "output_type": "display_data"
    },
    {
     "data": {
      "text/html": [
       "<div><img src=\"https://api-assets.clashroyale.com/cards/300/Gb0G1yNy0i5cIGUHin8uoFWxqntNtRPhY_jeMXg7HnA.png\" width=\"60px\" title=\"Barbarian Barrel\" style=\"display:inline;\"><img src=\"https://api-assets.clashroyale.com/cards/300/EnIcvO21hxiNpoI-zO6MDjLmzwPbq8Z4JPo2OKoVUjU.png\" width=\"60px\" title=\"Bats\" style=\"display:inline;\"><img src=\"https://api-assets.clashroyale.com/cards/300/RsFaHgB3w6vXsTjXdPr3x8l_GbV9TbOUCvIx07prbrQ.png\" width=\"60px\" title=\"Electro Wizard\" style=\"display:inline;\"><img src=\"https://api-assets.clashroyale.com/cards/300/lZD9MILQv7O-P3XBr_xOLS5idwuz3_7Ws9G60U36yhc.png\" width=\"60px\" title=\"Fireball\" style=\"display:inline;\"><img src=\"https://api-assets.clashroyale.com/cards/300/Y4yWvdwBCg2FpAZgs8T09Gy34WOwpLZW-ttL52Ae8NE.png\" width=\"60px\" title=\"Miner\" style=\"display:inline;\"><img src=\"https://api-assets.clashroyale.com/cards/300/lPOSw6H7YOHq2miSCrf7ZDL3ANjhJdPPDYOTujdNrVE.png\" width=\"60px\" title=\"Mortar\" style=\"display:inline;\"><img src=\"https://api-assets.clashroyale.com/cards/300/MlArURKhn_zWAZY-Xj1qIRKLVKquarG25BXDjUQajNs.png\" width=\"60px\" title=\"P.E.K.K.A\" style=\"display:inline;\"><img src=\"https://api-assets.clashroyale.com/cards/300/bAwMcqp9EKVIKH3ZLm_m0MqZFSG72zG-vKxpx8aKoVs.png\" width=\"60px\" title=\"Princess\" style=\"display:inline;\"></div>"
      ],
      "text/plain": [
       "<IPython.core.display.HTML object>"
      ]
     },
     "metadata": {},
     "output_type": "display_data"
    },
    {
     "data": {
      "text/html": [
       "<p style=\"font-family:Supercell-Magic;margin:0px;\">-----------------------------------------------------------------------------</p>"
      ],
      "text/plain": [
       "<IPython.core.display.HTML object>"
      ]
     },
     "metadata": {},
     "output_type": "display_data"
    },
    {
     "data": {
      "text/html": [
       "<p style=\"font-family:Supercell-Magic;margin:0px;\">Win Rate: 100.0%</p>"
      ],
      "text/plain": [
       "<IPython.core.display.HTML object>"
      ]
     },
     "metadata": {},
     "output_type": "display_data"
    },
    {
     "data": {
      "text/html": [
       "<div><img src=\"https://api-assets.clashroyale.com/cards/300/qBipxLo-3hhCnPrApp2Nn3b2NgrSrvwzWytvREev0CY.png\" width=\"60px\" title=\"Balloon\" style=\"display:inline;\"><img src=\"https://api-assets.clashroyale.com/cards/300/RsFaHgB3w6vXsTjXdPr3x8l_GbV9TbOUCvIx07prbrQ.png\" width=\"60px\" title=\"Electro Wizard\" style=\"display:inline;\"><img src=\"https://api-assets.clashroyale.com/cards/300/GSHY_wrooMMLET6bG_WJB8redtwx66c4i80ipi4gYOM.png\" width=\"60px\" title=\"Inferno Tower\" style=\"display:inline;\"><img src=\"https://api-assets.clashroyale.com/cards/300/E6RWrnCuk13xMX5OE1EQtLEKTZQV6B78d00y8PlXt6Q.png\" width=\"60px\" title=\"Lumberjack\" style=\"display:inline;\"><img src=\"https://api-assets.clashroyale.com/cards/300/O2NycChSNhn_UK9nqBXUhhC_lILkiANzPuJjtjoz0CE.png\" width=\"60px\" title=\"Mega Knight\" style=\"display:inline;\"><img src=\"https://api-assets.clashroyale.com/cards/300/i0RoY1fs6ay7VAxyFEfZGIPnD002nAKcne9FtJsWBHM.png\" width=\"60px\" title=\"Phoenix\" style=\"display:inline;\"><img src=\"https://api-assets.clashroyale.com/cards/300/fAOToOi1pRy7svN2xQS6mDkhQw2pj9m_17FauaNqyl4.png\" width=\"60px\" title=\"Skeleton Army\" style=\"display:inline;\"><img src=\"https://api-assets.clashroyale.com/cards/300/Mej7vnv4H_3p_8qPs_N6_GKahy6HDr7pU7i9eTHS84U.png\" width=\"60px\" title=\"Wizard\" style=\"display:inline;\"></div>"
      ],
      "text/plain": [
       "<IPython.core.display.HTML object>"
      ]
     },
     "metadata": {},
     "output_type": "display_data"
    },
    {
     "data": {
      "text/html": [
       "<p style=\"font-family:Supercell-Magic;margin:0px;\">-----------------------------------------------------------------------------</p>"
      ],
      "text/plain": [
       "<IPython.core.display.HTML object>"
      ]
     },
     "metadata": {},
     "output_type": "display_data"
    },
    {
     "data": {
      "text/html": [
       "<p style=\"font-family:Supercell-Magic;margin:0px;\">Win Rate: 100.0%</p>"
      ],
      "text/plain": [
       "<IPython.core.display.HTML object>"
      ]
     },
     "metadata": {},
     "output_type": "display_data"
    },
    {
     "data": {
      "text/html": [
       "<div><img src=\"https://api-assets.clashroyale.com/cards/300/RsFaHgB3w6vXsTjXdPr3x8l_GbV9TbOUCvIx07prbrQ.png\" width=\"60px\" title=\"Electro Wizard\" style=\"display:inline;\"><img src=\"https://api-assets.clashroyale.com/cards/300/CoZdp5PpsTH858l212lAMeJxVJ0zxv9V-f5xC8Bvj5g.png\" width=\"60px\" title=\"Goblin Barrel\" style=\"display:inline;\"><img src=\"https://api-assets.clashroyale.com/cards/300/O2NycChSNhn_UK9nqBXUhhC_lILkiANzPuJjtjoz0CE.png\" width=\"60px\" title=\"Mega Knight\" style=\"display:inline;\"><img src=\"https://api-assets.clashroyale.com/cards/300/Fmltc4j3Ve9vO_xhHHPEO3PRP3SmU2oKp2zkZQHRZT4.png\" width=\"60px\" title=\"Mini P.E.K.K.A\" style=\"display:inline;\"><img src=\"https://api-assets.clashroyale.com/cards/300/LjSfSbwQfkZuRJY4pVxKspZ-a0iM5KAhU8w-a_N5Z7Y.png\" width=\"60px\" title=\"Tombstone\" style=\"display:inline;\"><img src=\"https://api-assets.clashroyale.com/cards/300/0lIoYf3Y_plFTzo95zZL93JVxpfb3MMgFDDhgSDGU9A.png\" width=\"60px\" title=\"Valkyrie\" style=\"display:inline;\"><img src=\"https://api-assets.clashroyale.com/cards/300/Mej7vnv4H_3p_8qPs_N6_GKahy6HDr7pU7i9eTHS84U.png\" width=\"60px\" title=\"Wizard\" style=\"display:inline;\"><img src=\"https://api-assets.clashroyale.com/cards/300/7dxh2-yCBy1x44GrBaL29vjqnEEeJXHEAlsi5g6D1eY.png\" width=\"60px\" title=\"Zap\" style=\"display:inline;\"></div>"
      ],
      "text/plain": [
       "<IPython.core.display.HTML object>"
      ]
     },
     "metadata": {},
     "output_type": "display_data"
    },
    {
     "data": {
      "text/html": [
       "<p style=\"font-family:Supercell-Magic;margin:0px;\">-----------------------------------------------------------------------------</p>"
      ],
      "text/plain": [
       "<IPython.core.display.HTML object>"
      ]
     },
     "metadata": {},
     "output_type": "display_data"
    },
    {
     "data": {
      "text/html": [
       "<p style=\"font-family:Supercell-Magic;margin:0px;\">Win Rate: 100.0%</p>"
      ],
      "text/plain": [
       "<IPython.core.display.HTML object>"
      ]
     },
     "metadata": {},
     "output_type": "display_data"
    },
    {
     "data": {
      "text/html": [
       "<div><img src=\"https://api-assets.clashroyale.com/cards/300/RsFaHgB3w6vXsTjXdPr3x8l_GbV9TbOUCvIx07prbrQ.png\" width=\"60px\" title=\"Electro Wizard\" style=\"display:inline;\"><img src=\"https://api-assets.clashroyale.com/cards/300/CoZdp5PpsTH858l212lAMeJxVJ0zxv9V-f5xC8Bvj5g.png\" width=\"60px\" title=\"Goblin Barrel\" style=\"display:inline;\"><img src=\"https://api-assets.clashroyale.com/cards/300/O2NycChSNhn_UK9nqBXUhhC_lILkiANzPuJjtjoz0CE.png\" width=\"60px\" title=\"Mega Knight\" style=\"display:inline;\"><img src=\"https://api-assets.clashroyale.com/cards/300/Fmltc4j3Ve9vO_xhHHPEO3PRP3SmU2oKp2zkZQHRZT4.png\" width=\"60px\" title=\"Mini P.E.K.K.A\" style=\"display:inline;\"><img src=\"https://api-assets.clashroyale.com/cards/300/_iDwuDLexHPFZ_x4_a0eP-rxCS6vwWgTs6DLauwwoaY.png\" width=\"60px\" title=\"The Log\" style=\"display:inline;\"><img src=\"https://api-assets.clashroyale.com/cards/300/0lIoYf3Y_plFTzo95zZL93JVxpfb3MMgFDDhgSDGU9A.png\" width=\"60px\" title=\"Valkyrie\" style=\"display:inline;\"><img src=\"https://api-assets.clashroyale.com/cards/300/_xPphEfC8eEwFNrfU3cMQG9-f5JaLQ31ARCA7l3XtW4.png\" width=\"60px\" title=\"Wall Breakers\" style=\"display:inline;\"><img src=\"https://api-assets.clashroyale.com/cards/300/cfwk1vzehVyHC-uloEIH6NOI0hOdofCutR5PyhIgO6w.png\" width=\"60px\" title=\"Witch\" style=\"display:inline;\"></div>"
      ],
      "text/plain": [
       "<IPython.core.display.HTML object>"
      ]
     },
     "metadata": {},
     "output_type": "display_data"
    },
    {
     "data": {
      "text/html": [
       "<p style=\"font-family:Supercell-Magic;margin:0px;\">-----------------------------------------------------------------------------</p>"
      ],
      "text/plain": [
       "<IPython.core.display.HTML object>"
      ]
     },
     "metadata": {},
     "output_type": "display_data"
    },
    {
     "data": {
      "text/html": [
       "<p style=\"font-family:Supercell-Magic;margin:0px;\">Win Rate: 100.0%</p>"
      ],
      "text/plain": [
       "<IPython.core.display.HTML object>"
      ]
     },
     "metadata": {},
     "output_type": "display_data"
    },
    {
     "data": {
      "text/html": [
       "<div><img src=\"https://api-assets.clashroyale.com/cards/300/RsFaHgB3w6vXsTjXdPr3x8l_GbV9TbOUCvIx07prbrQ.png\" width=\"60px\" title=\"Electro Wizard\" style=\"display:inline;\"><img src=\"https://api-assets.clashroyale.com/cards/300/CoZdp5PpsTH858l212lAMeJxVJ0zxv9V-f5xC8Bvj5g.png\" width=\"60px\" title=\"Goblin Barrel\" style=\"display:inline;\"><img src=\"https://api-assets.clashroyale.com/cards/300/O2NycChSNhn_UK9nqBXUhhC_lILkiANzPuJjtjoz0CE.png\" width=\"60px\" title=\"Mega Knight\" style=\"display:inline;\"><img src=\"https://api-assets.clashroyale.com/cards/300/Fmltc4j3Ve9vO_xhHHPEO3PRP3SmU2oKp2zkZQHRZT4.png\" width=\"60px\" title=\"Mini P.E.K.K.A\" style=\"display:inline;\"><img src=\"https://api-assets.clashroyale.com/cards/300/_iDwuDLexHPFZ_x4_a0eP-rxCS6vwWgTs6DLauwwoaY.png\" width=\"60px\" title=\"The Log\" style=\"display:inline;\"><img src=\"https://api-assets.clashroyale.com/cards/300/LjSfSbwQfkZuRJY4pVxKspZ-a0iM5KAhU8w-a_N5Z7Y.png\" width=\"60px\" title=\"Tombstone\" style=\"display:inline;\"><img src=\"https://api-assets.clashroyale.com/cards/300/0lIoYf3Y_plFTzo95zZL93JVxpfb3MMgFDDhgSDGU9A.png\" width=\"60px\" title=\"Valkyrie\" style=\"display:inline;\"><img src=\"https://api-assets.clashroyale.com/cards/300/cfwk1vzehVyHC-uloEIH6NOI0hOdofCutR5PyhIgO6w.png\" width=\"60px\" title=\"Witch\" style=\"display:inline;\"></div>"
      ],
      "text/plain": [
       "<IPython.core.display.HTML object>"
      ]
     },
     "metadata": {},
     "output_type": "display_data"
    },
    {
     "data": {
      "text/html": [
       "<p style=\"font-family:Supercell-Magic;margin:0px;\">-----------------------------------------------------------------------------</p>"
      ],
      "text/plain": [
       "<IPython.core.display.HTML object>"
      ]
     },
     "metadata": {},
     "output_type": "display_data"
    }
   ],
   "source": [
    "# Get data for matches in Arena 15\n",
    "arena_15_data = battles[battles['trophy_bin'] == pd.Interval(5000, 5500, closed='left')]\n",
    "deck_win_rate = arena_15_data.groupby(by='player_deck')['win'].mean() # Get win rate\n",
    "a15_top_5 = deck_win_rate.sort_values(ascending=False)[:5] # Get top 5 by win rate\n",
    "for deck, win_rate in a15_top_5.items(): # Print the top 5\n",
    "    print_font(f'Win Rate: {win_rate * 100}%')\n",
    "    print_cards(deckstr_to_list(deck))\n",
    "    print_font('-'*77) # Divider"
   ]
  },
  {
   "attachments": {},
   "cell_type": "markdown",
   "metadata": {},
   "source": [
    "Great, it looks like we found our top decks, all with 100% win rate. That was easy, right? Let's see how many times these decks were used:"
   ]
  },
  {
   "cell_type": "code",
   "execution_count": 573,
   "metadata": {},
   "outputs": [
    {
     "data": {
      "text/html": [
       "<p style=\"font-family:Supercell-Magic;margin:0px;\">Deck 1: 1</p>"
      ],
      "text/plain": [
       "<IPython.core.display.HTML object>"
      ]
     },
     "metadata": {},
     "output_type": "display_data"
    },
    {
     "data": {
      "text/html": [
       "<p style=\"font-family:Supercell-Magic;margin:0px;\">Deck 2: 1</p>"
      ],
      "text/plain": [
       "<IPython.core.display.HTML object>"
      ]
     },
     "metadata": {},
     "output_type": "display_data"
    },
    {
     "data": {
      "text/html": [
       "<p style=\"font-family:Supercell-Magic;margin:0px;\">Deck 3: 1</p>"
      ],
      "text/plain": [
       "<IPython.core.display.HTML object>"
      ]
     },
     "metadata": {},
     "output_type": "display_data"
    },
    {
     "data": {
      "text/html": [
       "<p style=\"font-family:Supercell-Magic;margin:0px;\">Deck 4: 1</p>"
      ],
      "text/plain": [
       "<IPython.core.display.HTML object>"
      ]
     },
     "metadata": {},
     "output_type": "display_data"
    },
    {
     "data": {
      "text/html": [
       "<p style=\"font-family:Supercell-Magic;margin:0px;\">Deck 5: 1</p>"
      ],
      "text/plain": [
       "<IPython.core.display.HTML object>"
      ]
     },
     "metadata": {},
     "output_type": "display_data"
    }
   ],
   "source": [
    "for i, deck in enumerate(a15_top_5.index): # Loop through top 5\n",
    "    # Get number of matches for each deck\n",
    "    times_used = len(arena_15_data[arena_15_data['player_deck'] == deck])\n",
    "    print_font(f'Deck {i+1}: {times_used}') # Print"
   ]
  },
  {
   "attachments": {},
   "cell_type": "markdown",
   "metadata": {},
   "source": [
    "Each deck was only used once. If they just happened to win that one match, they would instantly have a 100% win rate, which is the case here. How can we avoid this issue?"
   ]
  },
  {
   "attachments": {},
   "cell_type": "markdown",
   "metadata": {},
   "source": [
    "## Hypothesis Testing"
   ]
  },
  {
   "attachments": {},
   "cell_type": "markdown",
   "metadata": {},
   "source": [
    "We need to determine whether a deck's win rate is statistically significant. To start, we should define a null hypothesis. In this case, our null hypothesis is that a deck has a 50% win rate. We want to find decks where the mean win value is significantly greater than 50% - This is our alternative hypothesis.\n",
    "\n",
    "We must keep in mind that we are working with binary data (1 = win, 0 = loss), not continuous or normally distributed data. In this case, we are comparing an observed proportion (win rate of a deck) with a theoretical proportion (50%). This calls for a [one proportion z-test](https://www.statology.org/one-proportion-z-test/). We want to know if our observed proportion is *greater* than the theoretical one, so we will be running a right-tailed test.\n",
    "\n",
    "First, let's get our imports. We will be using `proportions_ztest` from `statsmodels`."
   ]
  },
  {
   "cell_type": "code",
   "execution_count": 478,
   "metadata": {},
   "outputs": [],
   "source": [
    "from statsmodels.stats.proportion import proportions_ztest"
   ]
  },
  {
   "attachments": {},
   "cell_type": "markdown",
   "metadata": {},
   "source": [
    "Next, let's get the number of matches and number of wins for each deck in Arena 15."
   ]
  },
  {
   "cell_type": "code",
   "execution_count": 615,
   "metadata": {},
   "outputs": [
    {
     "data": {
      "text/html": [
       "<div>\n",
       "<style scoped>\n",
       "    .dataframe tbody tr th:only-of-type {\n",
       "        vertical-align: middle;\n",
       "    }\n",
       "\n",
       "    .dataframe tbody tr th {\n",
       "        vertical-align: top;\n",
       "    }\n",
       "\n",
       "    .dataframe thead th {\n",
       "        text-align: right;\n",
       "    }\n",
       "</style>\n",
       "<table border=\"1\" class=\"dataframe\">\n",
       "  <thead>\n",
       "    <tr style=\"text-align: right;\">\n",
       "      <th></th>\n",
       "      <th>player_deck</th>\n",
       "      <th>win_sum</th>\n",
       "      <th>win_mean</th>\n",
       "      <th>battle_id_count</th>\n",
       "    </tr>\n",
       "  </thead>\n",
       "  <tbody>\n",
       "    <tr>\n",
       "      <th>0</th>\n",
       "      <td>('Archer Queen', 'Archers', 'Arrows', 'Giant S...</td>\n",
       "      <td>0.0</td>\n",
       "      <td>0.0</td>\n",
       "      <td>1</td>\n",
       "    </tr>\n",
       "    <tr>\n",
       "      <th>1</th>\n",
       "      <td>('Archer Queen', 'Archers', 'Balloon', 'Bats',...</td>\n",
       "      <td>0.0</td>\n",
       "      <td>0.0</td>\n",
       "      <td>1</td>\n",
       "    </tr>\n",
       "    <tr>\n",
       "      <th>2</th>\n",
       "      <td>('Archer Queen', 'Archers', 'Barbarians', 'Eli...</td>\n",
       "      <td>0.0</td>\n",
       "      <td>0.0</td>\n",
       "      <td>1</td>\n",
       "    </tr>\n",
       "    <tr>\n",
       "      <th>3</th>\n",
       "      <td>('Archer Queen', 'Archers', 'Bats', 'Hog Rider...</td>\n",
       "      <td>1.0</td>\n",
       "      <td>1.0</td>\n",
       "      <td>1</td>\n",
       "    </tr>\n",
       "    <tr>\n",
       "      <th>4</th>\n",
       "      <td>('Archer Queen', 'Archers', 'Bomber', 'Dart Go...</td>\n",
       "      <td>0.0</td>\n",
       "      <td>0.0</td>\n",
       "      <td>1</td>\n",
       "    </tr>\n",
       "    <tr>\n",
       "      <th>...</th>\n",
       "      <td>...</td>\n",
       "      <td>...</td>\n",
       "      <td>...</td>\n",
       "      <td>...</td>\n",
       "    </tr>\n",
       "    <tr>\n",
       "      <th>377484</th>\n",
       "      <td>('Prince', 'Princess', 'Skeleton Army', 'Spark...</td>\n",
       "      <td>1.0</td>\n",
       "      <td>1.0</td>\n",
       "      <td>1</td>\n",
       "    </tr>\n",
       "    <tr>\n",
       "      <th>377485</th>\n",
       "      <td>('Prince', 'Rage', 'Royal Giant', 'Skeleton Ar...</td>\n",
       "      <td>2.0</td>\n",
       "      <td>1.0</td>\n",
       "      <td>2</td>\n",
       "    </tr>\n",
       "    <tr>\n",
       "      <th>377486</th>\n",
       "      <td>('Prince', 'Royal Ghost', 'Skeleton Army', 'Te...</td>\n",
       "      <td>0.0</td>\n",
       "      <td>0.0</td>\n",
       "      <td>2</td>\n",
       "    </tr>\n",
       "    <tr>\n",
       "      <th>377487</th>\n",
       "      <td>('Prince', 'Royal Hogs', 'Skeleton Army', 'The...</td>\n",
       "      <td>0.0</td>\n",
       "      <td>0.0</td>\n",
       "      <td>1</td>\n",
       "    </tr>\n",
       "    <tr>\n",
       "      <th>377488</th>\n",
       "      <td>('Rocket', 'Royal Giant', 'Skeleton Army', 'Th...</td>\n",
       "      <td>0.0</td>\n",
       "      <td>0.0</td>\n",
       "      <td>1</td>\n",
       "    </tr>\n",
       "  </tbody>\n",
       "</table>\n",
       "<p>377489 rows × 4 columns</p>\n",
       "</div>"
      ],
      "text/plain": [
       "                                              player_deck  win_sum  win_mean  \\\n",
       "0       ('Archer Queen', 'Archers', 'Arrows', 'Giant S...      0.0       0.0   \n",
       "1       ('Archer Queen', 'Archers', 'Balloon', 'Bats',...      0.0       0.0   \n",
       "2       ('Archer Queen', 'Archers', 'Barbarians', 'Eli...      0.0       0.0   \n",
       "3       ('Archer Queen', 'Archers', 'Bats', 'Hog Rider...      1.0       1.0   \n",
       "4       ('Archer Queen', 'Archers', 'Bomber', 'Dart Go...      0.0       0.0   \n",
       "...                                                   ...      ...       ...   \n",
       "377484  ('Prince', 'Princess', 'Skeleton Army', 'Spark...      1.0       1.0   \n",
       "377485  ('Prince', 'Rage', 'Royal Giant', 'Skeleton Ar...      2.0       1.0   \n",
       "377486  ('Prince', 'Royal Ghost', 'Skeleton Army', 'Te...      0.0       0.0   \n",
       "377487  ('Prince', 'Royal Hogs', 'Skeleton Army', 'The...      0.0       0.0   \n",
       "377488  ('Rocket', 'Royal Giant', 'Skeleton Army', 'Th...      0.0       0.0   \n",
       "\n",
       "        battle_id_count  \n",
       "0                     1  \n",
       "1                     1  \n",
       "2                     1  \n",
       "3                     1  \n",
       "4                     1  \n",
       "...                 ...  \n",
       "377484                1  \n",
       "377485                2  \n",
       "377486                2  \n",
       "377487                1  \n",
       "377488                1  \n",
       "\n",
       "[377489 rows x 4 columns]"
      ]
     },
     "execution_count": 615,
     "metadata": {},
     "output_type": "execute_result"
    }
   ],
   "source": [
    "# Group by deck and aggregate sum and count statistics\n",
    "deck_stats = arena_15_data.groupby(by='player_deck').agg({'win': ['sum', 'mean'], 'battle_id': ['count']})\n",
    "deck_stats.columns = deck_stats.columns.map('_'.join)\n",
    "deck_stats = deck_stats.reset_index()\n",
    "deck_stats"
   ]
  },
  {
   "attachments": {},
   "cell_type": "markdown",
   "metadata": {},
   "source": [
    "Now we can run our z-test. We'll add a new column to our dataframe with the p-value of our test for each deck."
   ]
  },
  {
   "cell_type": "code",
   "execution_count": 616,
   "metadata": {},
   "outputs": [],
   "source": [
    "def add_p_val_col(df, h_0):\n",
    "\n",
    "    def get_p_val(row):\n",
    "        if row['win_sum'] / row['battle_id_count'] < h_0:\n",
    "            return None # Eliminate bad values, don't run test\n",
    "        else:\n",
    "            _, p_val = proportions_ztest( # Run z test\n",
    "                count=row['win_sum'], # Number of wins\n",
    "                nobs=row['battle_id_count'], # Number of matches\n",
    "                value=h_0, # Theoretical mean\n",
    "                alternative='larger', # Observed mean hypothesized to be larger\n",
    "                prop_var=h_0 # Variance\n",
    "            )\n",
    "            return p_val\n",
    "\n",
    "    return df.apply(get_p_val, axis=1) # Apply to dataframe"
   ]
  },
  {
   "cell_type": "code",
   "execution_count": 618,
   "metadata": {},
   "outputs": [
    {
     "data": {
      "text/html": [
       "<div>\n",
       "<style scoped>\n",
       "    .dataframe tbody tr th:only-of-type {\n",
       "        vertical-align: middle;\n",
       "    }\n",
       "\n",
       "    .dataframe tbody tr th {\n",
       "        vertical-align: top;\n",
       "    }\n",
       "\n",
       "    .dataframe thead th {\n",
       "        text-align: right;\n",
       "    }\n",
       "</style>\n",
       "<table border=\"1\" class=\"dataframe\">\n",
       "  <thead>\n",
       "    <tr style=\"text-align: right;\">\n",
       "      <th></th>\n",
       "      <th>player_deck</th>\n",
       "      <th>win_sum</th>\n",
       "      <th>win_mean</th>\n",
       "      <th>battle_id_count</th>\n",
       "      <th>p_val</th>\n",
       "    </tr>\n",
       "  </thead>\n",
       "  <tbody>\n",
       "    <tr>\n",
       "      <th>3</th>\n",
       "      <td>('Archer Queen', 'Archers', 'Bats', 'Hog Rider...</td>\n",
       "      <td>1.0</td>\n",
       "      <td>1.0</td>\n",
       "      <td>1</td>\n",
       "      <td>0.158655</td>\n",
       "    </tr>\n",
       "    <tr>\n",
       "      <th>5</th>\n",
       "      <td>('Archer Queen', 'Archers', 'Bomber', 'Hog Rid...</td>\n",
       "      <td>1.0</td>\n",
       "      <td>1.0</td>\n",
       "      <td>1</td>\n",
       "      <td>0.158655</td>\n",
       "    </tr>\n",
       "    <tr>\n",
       "      <th>6</th>\n",
       "      <td>('Archer Queen', 'Archers', 'Cannon', 'Earthqu...</td>\n",
       "      <td>1.0</td>\n",
       "      <td>1.0</td>\n",
       "      <td>1</td>\n",
       "      <td>0.158655</td>\n",
       "    </tr>\n",
       "    <tr>\n",
       "      <th>7</th>\n",
       "      <td>('Archer Queen', 'Archers', 'Cannon', 'Giant S...</td>\n",
       "      <td>1.0</td>\n",
       "      <td>1.0</td>\n",
       "      <td>1</td>\n",
       "      <td>0.158655</td>\n",
       "    </tr>\n",
       "    <tr>\n",
       "      <th>8</th>\n",
       "      <td>('Archer Queen', 'Archers', 'Clone', 'Dart Gob...</td>\n",
       "      <td>1.0</td>\n",
       "      <td>1.0</td>\n",
       "      <td>1</td>\n",
       "      <td>0.158655</td>\n",
       "    </tr>\n",
       "    <tr>\n",
       "      <th>...</th>\n",
       "      <td>...</td>\n",
       "      <td>...</td>\n",
       "      <td>...</td>\n",
       "      <td>...</td>\n",
       "      <td>...</td>\n",
       "    </tr>\n",
       "    <tr>\n",
       "      <th>377479</th>\n",
       "      <td>('Phoenix', 'Princess', 'Ram Rider', 'The Log'...</td>\n",
       "      <td>6.0</td>\n",
       "      <td>0.5</td>\n",
       "      <td>12</td>\n",
       "      <td>0.500000</td>\n",
       "    </tr>\n",
       "    <tr>\n",
       "      <th>377481</th>\n",
       "      <td>('Poison', 'Prince', 'Princess', 'Ram Rider', ...</td>\n",
       "      <td>1.0</td>\n",
       "      <td>1.0</td>\n",
       "      <td>1</td>\n",
       "      <td>0.158655</td>\n",
       "    </tr>\n",
       "    <tr>\n",
       "      <th>377483</th>\n",
       "      <td>('Prince', 'Princess', 'Ram Rider', 'Skeleton ...</td>\n",
       "      <td>1.0</td>\n",
       "      <td>0.5</td>\n",
       "      <td>2</td>\n",
       "      <td>0.500000</td>\n",
       "    </tr>\n",
       "    <tr>\n",
       "      <th>377484</th>\n",
       "      <td>('Prince', 'Princess', 'Skeleton Army', 'Spark...</td>\n",
       "      <td>1.0</td>\n",
       "      <td>1.0</td>\n",
       "      <td>1</td>\n",
       "      <td>0.158655</td>\n",
       "    </tr>\n",
       "    <tr>\n",
       "      <th>377485</th>\n",
       "      <td>('Prince', 'Rage', 'Royal Giant', 'Skeleton Ar...</td>\n",
       "      <td>2.0</td>\n",
       "      <td>1.0</td>\n",
       "      <td>2</td>\n",
       "      <td>0.078650</td>\n",
       "    </tr>\n",
       "  </tbody>\n",
       "</table>\n",
       "<p>200163 rows × 5 columns</p>\n",
       "</div>"
      ],
      "text/plain": [
       "                                              player_deck  win_sum  win_mean  \\\n",
       "3       ('Archer Queen', 'Archers', 'Bats', 'Hog Rider...      1.0       1.0   \n",
       "5       ('Archer Queen', 'Archers', 'Bomber', 'Hog Rid...      1.0       1.0   \n",
       "6       ('Archer Queen', 'Archers', 'Cannon', 'Earthqu...      1.0       1.0   \n",
       "7       ('Archer Queen', 'Archers', 'Cannon', 'Giant S...      1.0       1.0   \n",
       "8       ('Archer Queen', 'Archers', 'Clone', 'Dart Gob...      1.0       1.0   \n",
       "...                                                   ...      ...       ...   \n",
       "377479  ('Phoenix', 'Princess', 'Ram Rider', 'The Log'...      6.0       0.5   \n",
       "377481  ('Poison', 'Prince', 'Princess', 'Ram Rider', ...      1.0       1.0   \n",
       "377483  ('Prince', 'Princess', 'Ram Rider', 'Skeleton ...      1.0       0.5   \n",
       "377484  ('Prince', 'Princess', 'Skeleton Army', 'Spark...      1.0       1.0   \n",
       "377485  ('Prince', 'Rage', 'Royal Giant', 'Skeleton Ar...      2.0       1.0   \n",
       "\n",
       "        battle_id_count     p_val  \n",
       "3                     1  0.158655  \n",
       "5                     1  0.158655  \n",
       "6                     1  0.158655  \n",
       "7                     1  0.158655  \n",
       "8                     1  0.158655  \n",
       "...                 ...       ...  \n",
       "377479               12  0.500000  \n",
       "377481                1  0.158655  \n",
       "377483                2  0.500000  \n",
       "377484                1  0.158655  \n",
       "377485                2  0.078650  \n",
       "\n",
       "[200163 rows x 5 columns]"
      ]
     },
     "execution_count": 618,
     "metadata": {},
     "output_type": "execute_result"
    }
   ],
   "source": [
    "deck_stats['p_val'] = add_p_val_col(deck_stats, 0.5) # Null hypothesis is 50%\n",
    "deck_stats_05 = deck_stats.dropna()\n",
    "deck_stats_05"
   ]
  },
  {
   "attachments": {},
   "cell_type": "markdown",
   "metadata": {},
   "source": [
    "In this case, the p-value represents the probability that a deck's actual win rate is less than or equal to 50%, given our observed data. Let's set our p-value limit at 0.005. I'll see what the most popular deck below this p-value is."
   ]
  },
  {
   "cell_type": "code",
   "execution_count": 619,
   "metadata": {},
   "outputs": [
    {
     "data": {
      "text/html": [
       "<p style=\"font-family:Supercell-Magic;margin:0px;\">Deck #1: 51.95% Win Rate over 9278 matches.</p>"
      ],
      "text/plain": [
       "<IPython.core.display.HTML object>"
      ]
     },
     "metadata": {},
     "output_type": "display_data"
    },
    {
     "data": {
      "text/html": [
       "<p style=\"font-family:Supercell-Magic;margin:0px;\">\n",
       "P Value is 0.0000856.</p>"
      ],
      "text/plain": [
       "<IPython.core.display.HTML object>"
      ]
     },
     "metadata": {},
     "output_type": "display_data"
    },
    {
     "data": {
      "text/html": [
       "<div><img src=\"https://api-assets.clashroyale.com/cards/300/CoZdp5PpsTH858l212lAMeJxVJ0zxv9V-f5xC8Bvj5g.png\" width=\"60px\" title=\"Goblin Barrel\" style=\"display:inline;\"><img src=\"https://api-assets.clashroyale.com/cards/300/NHflxzVAQT4oAz7eDfdueqpictb5vrWezn1nuqFhE4w.png\" width=\"60px\" title=\"Goblin Gang\" style=\"display:inline;\"><img src=\"https://api-assets.clashroyale.com/cards/300/lv1budiafU9XmSdrDkk0NYyqASAFYyZ06CPysXKZXlA.png\" width=\"60px\" title=\"Ice Spirit\" style=\"display:inline;\"><img src=\"https://api-assets.clashroyale.com/cards/300/GSHY_wrooMMLET6bG_WJB8redtwx66c4i80ipi4gYOM.png\" width=\"60px\" title=\"Inferno Tower\" style=\"display:inline;\"><img src=\"https://api-assets.clashroyale.com/cards/300/jAj1Q5rclXxU9kVImGqSJxa4wEMfEhvwNQ_4jiGUuqg.png\" width=\"60px\" title=\"Knight\" style=\"display:inline;\"><img src=\"https://api-assets.clashroyale.com/cards/300/bAwMcqp9EKVIKH3ZLm_m0MqZFSG72zG-vKxpx8aKoVs.png\" width=\"60px\" title=\"Princess\" style=\"display:inline;\"><img src=\"https://api-assets.clashroyale.com/cards/300/Ie07nQNK9CjhKOa4-arFAewi4EroqaA-86Xo7r5tx94.png\" width=\"60px\" title=\"Rocket\" style=\"display:inline;\"><img src=\"https://api-assets.clashroyale.com/cards/300/_iDwuDLexHPFZ_x4_a0eP-rxCS6vwWgTs6DLauwwoaY.png\" width=\"60px\" title=\"The Log\" style=\"display:inline;\"></div>"
      ],
      "text/plain": [
       "<IPython.core.display.HTML object>"
      ]
     },
     "metadata": {},
     "output_type": "display_data"
    },
    {
     "data": {
      "text/html": [
       "<p style=\"font-family:Supercell-Magic;margin:0px;\">-----------------------------------------------------------------------------</p>"
      ],
      "text/plain": [
       "<IPython.core.display.HTML object>"
      ]
     },
     "metadata": {},
     "output_type": "display_data"
    },
    {
     "data": {
      "text/html": [
       "<p style=\"font-family:Supercell-Magic;margin:0px;\">Deck #2: 54.02% Win Rate over 1070 matches.</p>"
      ],
      "text/plain": [
       "<IPython.core.display.HTML object>"
      ]
     },
     "metadata": {},
     "output_type": "display_data"
    },
    {
     "data": {
      "text/html": [
       "<p style=\"font-family:Supercell-Magic;margin:0px;\">\n",
       "P Value is 0.0042806.</p>"
      ],
      "text/plain": [
       "<IPython.core.display.HTML object>"
      ]
     },
     "metadata": {},
     "output_type": "display_data"
    },
    {
     "data": {
      "text/html": [
       "<div><img src=\"https://api-assets.clashroyale.com/cards/300/CoZdp5PpsTH858l212lAMeJxVJ0zxv9V-f5xC8Bvj5g.png\" width=\"60px\" title=\"Goblin Barrel\" style=\"display:inline;\"><img src=\"https://api-assets.clashroyale.com/cards/300/NHflxzVAQT4oAz7eDfdueqpictb5vrWezn1nuqFhE4w.png\" width=\"60px\" title=\"Goblin Gang\" style=\"display:inline;\"><img src=\"https://api-assets.clashroyale.com/cards/300/lv1budiafU9XmSdrDkk0NYyqASAFYyZ06CPysXKZXlA.png\" width=\"60px\" title=\"Ice Spirit\" style=\"display:inline;\"><img src=\"https://api-assets.clashroyale.com/cards/300/jAj1Q5rclXxU9kVImGqSJxa4wEMfEhvwNQ_4jiGUuqg.png\" width=\"60px\" title=\"Knight\" style=\"display:inline;\"><img src=\"https://api-assets.clashroyale.com/cards/300/bAwMcqp9EKVIKH3ZLm_m0MqZFSG72zG-vKxpx8aKoVs.png\" width=\"60px\" title=\"Princess\" style=\"display:inline;\"><img src=\"https://api-assets.clashroyale.com/cards/300/Ie07nQNK9CjhKOa4-arFAewi4EroqaA-86Xo7r5tx94.png\" width=\"60px\" title=\"Rocket\" style=\"display:inline;\"><img src=\"https://api-assets.clashroyale.com/cards/300/OiwnGrxFMNiHetYEerE-UZt0L_uYNzFY7qV_CA_OxR4.png\" width=\"60px\" title=\"Tesla\" style=\"display:inline;\"><img src=\"https://api-assets.clashroyale.com/cards/300/_iDwuDLexHPFZ_x4_a0eP-rxCS6vwWgTs6DLauwwoaY.png\" width=\"60px\" title=\"The Log\" style=\"display:inline;\"></div>"
      ],
      "text/plain": [
       "<IPython.core.display.HTML object>"
      ]
     },
     "metadata": {},
     "output_type": "display_data"
    },
    {
     "data": {
      "text/html": [
       "<p style=\"font-family:Supercell-Magic;margin:0px;\">-----------------------------------------------------------------------------</p>"
      ],
      "text/plain": [
       "<IPython.core.display.HTML object>"
      ]
     },
     "metadata": {},
     "output_type": "display_data"
    },
    {
     "data": {
      "text/html": [
       "<p style=\"font-family:Supercell-Magic;margin:0px;\">Deck #3: 63.37% Win Rate over 202 matches.</p>"
      ],
      "text/plain": [
       "<IPython.core.display.HTML object>"
      ]
     },
     "metadata": {},
     "output_type": "display_data"
    },
    {
     "data": {
      "text/html": [
       "<p style=\"font-family:Supercell-Magic;margin:0px;\">\n",
       "P Value is 0.0000725.</p>"
      ],
      "text/plain": [
       "<IPython.core.display.HTML object>"
      ]
     },
     "metadata": {},
     "output_type": "display_data"
    },
    {
     "data": {
      "text/html": [
       "<div><img src=\"https://api-assets.clashroyale.com/cards/300/lZD9MILQv7O-P3XBr_xOLS5idwuz3_7Ws9G60U36yhc.png\" width=\"60px\" title=\"Fireball\" style=\"display:inline;\"><img src=\"https://api-assets.clashroyale.com/cards/300/CoZdp5PpsTH858l212lAMeJxVJ0zxv9V-f5xC8Bvj5g.png\" width=\"60px\" title=\"Goblin Barrel\" style=\"display:inline;\"><img src=\"https://api-assets.clashroyale.com/cards/300/NHflxzVAQT4oAz7eDfdueqpictb5vrWezn1nuqFhE4w.png\" width=\"60px\" title=\"Goblin Gang\" style=\"display:inline;\"><img src=\"https://api-assets.clashroyale.com/cards/300/lv1budiafU9XmSdrDkk0NYyqASAFYyZ06CPysXKZXlA.png\" width=\"60px\" title=\"Ice Spirit\" style=\"display:inline;\"><img src=\"https://api-assets.clashroyale.com/cards/300/GSHY_wrooMMLET6bG_WJB8redtwx66c4i80ipi4gYOM.png\" width=\"60px\" title=\"Inferno Tower\" style=\"display:inline;\"><img src=\"https://api-assets.clashroyale.com/cards/300/jAj1Q5rclXxU9kVImGqSJxa4wEMfEhvwNQ_4jiGUuqg.png\" width=\"60px\" title=\"Knight\" style=\"display:inline;\"><img src=\"https://api-assets.clashroyale.com/cards/300/bAwMcqp9EKVIKH3ZLm_m0MqZFSG72zG-vKxpx8aKoVs.png\" width=\"60px\" title=\"Princess\" style=\"display:inline;\"><img src=\"https://api-assets.clashroyale.com/cards/300/_iDwuDLexHPFZ_x4_a0eP-rxCS6vwWgTs6DLauwwoaY.png\" width=\"60px\" title=\"The Log\" style=\"display:inline;\"></div>"
      ],
      "text/plain": [
       "<IPython.core.display.HTML object>"
      ]
     },
     "metadata": {},
     "output_type": "display_data"
    },
    {
     "data": {
      "text/html": [
       "<p style=\"font-family:Supercell-Magic;margin:0px;\">-----------------------------------------------------------------------------</p>"
      ],
      "text/plain": [
       "<IPython.core.display.HTML object>"
      ]
     },
     "metadata": {},
     "output_type": "display_data"
    }
   ],
   "source": [
    "valid_decks = deck_stats_05[deck_stats_05['p_val'] < 0.005]\n",
    "pop_3 = valid_decks.sort_values(by='battle_id_count', ascending=False)[:3]\n",
    "for i, row in enumerate(pop_3.values):\n",
    "    deck, _, win_rate, num_battles, p_val = row\n",
    "    print_font(f'Deck #{i+1}: {\"{:.2f}\".format(win_rate * 100)}% Win Rate over {num_battles} matches.')\n",
    "    print_font(f'\\nP Value is {\"{:.7f}\".format(p_val)}.')\n",
    "    print_cards(deckstr_to_list(deck))\n",
    "    print_font('-'*77)"
   ]
  },
  {
   "attachments": {},
   "cell_type": "markdown",
   "metadata": {},
   "source": [
    "The top deck was used over 9000 times, with a consistently above 50% win rate. This is good, but 51.95% isn't exactly phenomenal. Deck #3 also looks promising, an dhas a 63% win rate, so I'll probably give that one a try."
   ]
  },
  {
   "attachments": {},
   "cell_type": "markdown",
   "metadata": {},
   "source": [
    "What if we looked at the decks with the lowest p-values? These should theoretically have the highest likelihood of having an actual win rate above 50%."
   ]
  },
  {
   "cell_type": "code",
   "execution_count": 620,
   "metadata": {},
   "outputs": [
    {
     "data": {
      "text/html": [
       "<p style=\"font-family:Supercell-Magic;margin:0px;\">Deck #1: 96.00% Win Rate over 25 matches.</p>"
      ],
      "text/plain": [
       "<IPython.core.display.HTML object>"
      ]
     },
     "metadata": {},
     "output_type": "display_data"
    },
    {
     "data": {
      "text/html": [
       "<p style=\"font-family:Supercell-Magic;margin:0px;\">\n",
       "P Value is 0.0000021.</p>"
      ],
      "text/plain": [
       "<IPython.core.display.HTML object>"
      ]
     },
     "metadata": {},
     "output_type": "display_data"
    },
    {
     "data": {
      "text/html": [
       "<div><img src=\"https://api-assets.clashroyale.com/cards/300/SU4qFXmbQXWjvASxVI6z9IJuTYolx4A0MKK90sTIE88.png\" width=\"60px\" title=\"Bowler\" style=\"display:inline;\"><img src=\"https://api-assets.clashroyale.com/cards/300/C88C5JH_F3lLZj6K-tLcMo5DPjrFmvzIb1R2M6xCfTE.png\" width=\"60px\" title=\"Elite Barbarians\" style=\"display:inline;\"><img src=\"https://api-assets.clashroyale.com/cards/300/lZD9MILQv7O-P3XBr_xOLS5idwuz3_7Ws9G60U36yhc.png\" width=\"60px\" title=\"Fireball\" style=\"display:inline;\"><img src=\"https://api-assets.clashroyale.com/cards/300/W3dkw0HTw9n1jB-zbknY2w3wHuyuLxSRIAV5fUT1SEY.png\" width=\"60px\" title=\"Ice Wizard\" style=\"display:inline;\"><img src=\"https://api-assets.clashroyale.com/cards/300/GSHY_wrooMMLET6bG_WJB8redtwx66c4i80ipi4gYOM.png\" width=\"60px\" title=\"Inferno Tower\" style=\"display:inline;\"><img src=\"https://api-assets.clashroyale.com/cards/300/_iDwuDLexHPFZ_x4_a0eP-rxCS6vwWgTs6DLauwwoaY.png\" width=\"60px\" title=\"The Log\" style=\"display:inline;\"><img src=\"https://api-assets.clashroyale.com/cards/300/0lIoYf3Y_plFTzo95zZL93JVxpfb3MMgFDDhgSDGU9A.png\" width=\"60px\" title=\"Valkyrie\" style=\"display:inline;\"><img src=\"https://api-assets.clashroyale.com/cards/300/7dxh2-yCBy1x44GrBaL29vjqnEEeJXHEAlsi5g6D1eY.png\" width=\"60px\" title=\"Zap\" style=\"display:inline;\"></div>"
      ],
      "text/plain": [
       "<IPython.core.display.HTML object>"
      ]
     },
     "metadata": {},
     "output_type": "display_data"
    },
    {
     "data": {
      "text/html": [
       "<p style=\"font-family:Supercell-Magic;margin:0px;\">-----------------------------------------------------------------------------</p>"
      ],
      "text/plain": [
       "<IPython.core.display.HTML object>"
      ]
     },
     "metadata": {},
     "output_type": "display_data"
    },
    {
     "data": {
      "text/html": [
       "<p style=\"font-family:Supercell-Magic;margin:0px;\">Deck #2: 89.29% Win Rate over 28 matches.</p>"
      ],
      "text/plain": [
       "<IPython.core.display.HTML object>"
      ]
     },
     "metadata": {},
     "output_type": "display_data"
    },
    {
     "data": {
      "text/html": [
       "<p style=\"font-family:Supercell-Magic;margin:0px;\">\n",
       "P Value is 0.0000161.</p>"
      ],
      "text/plain": [
       "<IPython.core.display.HTML object>"
      ]
     },
     "metadata": {},
     "output_type": "display_data"
    },
    {
     "data": {
      "text/html": [
       "<div><img src=\"https://api-assets.clashroyale.com/cards/300/cjC9n4AvEZJ3urkVh-rwBkJ-aRSsydIMqSAV48hAih0.png\" width=\"60px\" title=\"Baby Dragon\" style=\"display:inline;\"><img src=\"https://api-assets.clashroyale.com/cards/300/dyc50V2cplKi4H7pq1B3I36pl_sEH5DQrNHboS_dbbM.png\" width=\"60px\" title=\"Battle Ram\" style=\"display:inline;\"><img src=\"https://api-assets.clashroyale.com/cards/300/SU4qFXmbQXWjvASxVI6z9IJuTYolx4A0MKK90sTIE88.png\" width=\"60px\" title=\"Bowler\" style=\"display:inline;\"><img src=\"https://api-assets.clashroyale.com/cards/300/RsFaHgB3w6vXsTjXdPr3x8l_GbV9TbOUCvIx07prbrQ.png\" width=\"60px\" title=\"Electro Wizard\" style=\"display:inline;\"><img src=\"https://api-assets.clashroyale.com/cards/300/C88C5JH_F3lLZj6K-tLcMo5DPjrFmvzIb1R2M6xCfTE.png\" width=\"60px\" title=\"Elite Barbarians\" style=\"display:inline;\"><img src=\"https://api-assets.clashroyale.com/cards/300/NHflxzVAQT4oAz7eDfdueqpictb5vrWezn1nuqFhE4w.png\" width=\"60px\" title=\"Goblin Gang\" style=\"display:inline;\"><img src=\"https://api-assets.clashroyale.com/cards/300/_iDwuDLexHPFZ_x4_a0eP-rxCS6vwWgTs6DLauwwoaY.png\" width=\"60px\" title=\"The Log\" style=\"display:inline;\"><img src=\"https://api-assets.clashroyale.com/cards/300/Mej7vnv4H_3p_8qPs_N6_GKahy6HDr7pU7i9eTHS84U.png\" width=\"60px\" title=\"Wizard\" style=\"display:inline;\"></div>"
      ],
      "text/plain": [
       "<IPython.core.display.HTML object>"
      ]
     },
     "metadata": {},
     "output_type": "display_data"
    },
    {
     "data": {
      "text/html": [
       "<p style=\"font-family:Supercell-Magic;margin:0px;\">-----------------------------------------------------------------------------</p>"
      ],
      "text/plain": [
       "<IPython.core.display.HTML object>"
      ]
     },
     "metadata": {},
     "output_type": "display_data"
    },
    {
     "data": {
      "text/html": [
       "<p style=\"font-family:Supercell-Magic;margin:0px;\">Deck #3: 100.00% Win Rate over 17 matches.</p>"
      ],
      "text/plain": [
       "<IPython.core.display.HTML object>"
      ]
     },
     "metadata": {},
     "output_type": "display_data"
    },
    {
     "data": {
      "text/html": [
       "<p style=\"font-family:Supercell-Magic;margin:0px;\">\n",
       "P Value is 0.0000187.</p>"
      ],
      "text/plain": [
       "<IPython.core.display.HTML object>"
      ]
     },
     "metadata": {},
     "output_type": "display_data"
    },
    {
     "data": {
      "text/html": [
       "<div><img src=\"https://api-assets.clashroyale.com/cards/300/Gb0G1yNy0i5cIGUHin8uoFWxqntNtRPhY_jeMXg7HnA.png\" width=\"60px\" title=\"Barbarian Barrel\" style=\"display:inline;\"><img src=\"https://api-assets.clashroyale.com/cards/300/EnIcvO21hxiNpoI-zO6MDjLmzwPbq8Z4JPo2OKoVUjU.png\" width=\"60px\" title=\"Bats\" style=\"display:inline;\"><img src=\"https://api-assets.clashroyale.com/cards/300/lv1budiafU9XmSdrDkk0NYyqASAFYyZ06CPysXKZXlA.png\" width=\"60px\" title=\"Ice Spirit\" style=\"display:inline;\"><img src=\"https://api-assets.clashroyale.com/cards/300/jAj1Q5rclXxU9kVImGqSJxa4wEMfEhvwNQ_4jiGUuqg.png\" width=\"60px\" title=\"Knight\" style=\"display:inline;\"><img src=\"https://api-assets.clashroyale.com/cards/300/98HDkG2189yOULcVG9jz2QbJKtfuhH21DIrIjkOjxI8.png\" width=\"60px\" title=\"Poison\" style=\"display:inline;\"><img src=\"https://api-assets.clashroyale.com/cards/300/bAwMcqp9EKVIKH3ZLm_m0MqZFSG72zG-vKxpx8aKoVs.png\" width=\"60px\" title=\"Princess\" style=\"display:inline;\"><img src=\"https://api-assets.clashroyale.com/cards/300/ASSQJG_MoVq9e81HZzo4bynMnyLNpNJMfSLb3hqydOw.png\" width=\"60px\" title=\"Royal Hogs\" style=\"display:inline;\"><img src=\"https://api-assets.clashroyale.com/cards/300/_xPphEfC8eEwFNrfU3cMQG9-f5JaLQ31ARCA7l3XtW4.png\" width=\"60px\" title=\"Wall Breakers\" style=\"display:inline;\"></div>"
      ],
      "text/plain": [
       "<IPython.core.display.HTML object>"
      ]
     },
     "metadata": {},
     "output_type": "display_data"
    },
    {
     "data": {
      "text/html": [
       "<p style=\"font-family:Supercell-Magic;margin:0px;\">-----------------------------------------------------------------------------</p>"
      ],
      "text/plain": [
       "<IPython.core.display.HTML object>"
      ]
     },
     "metadata": {},
     "output_type": "display_data"
    }
   ],
   "source": [
    "t3_pval = deck_stats.sort_values(by='p_val')[:3]\n",
    "for i, row in enumerate(t3_pval.values):\n",
    "    deck, _, win_rate, num_battles, p_val = row\n",
    "    print_font(f'Deck #{i+1}: {\"{:.2f}\".format(win_rate * 100)}% Win Rate over {num_battles} matches.')\n",
    "    print_font(f'\\nP Value is {\"{:.7f}\".format(p_val)}.')\n",
    "    print_cards(deckstr_to_list(deck))\n",
    "    print_font('-'*77)"
   ]
  },
  {
   "attachments": {},
   "cell_type": "markdown",
   "metadata": {},
   "source": [
    "The top deck won 24 of the 25 matches it was played in. That's a very good win rate with a solid sample size, so I will definitely try this one out. \n",
    "\n",
    "What if we raised the bar and changed our null hypothesis to a 80% win rate? Would this change our findings?"
   ]
  },
  {
   "cell_type": "code",
   "execution_count": 621,
   "metadata": {},
   "outputs": [
    {
     "data": {
      "text/html": [
       "<p style=\"font-family:Supercell-Magic;margin:0px;\">Deck #1: 100.00% Win Rate over 17 matches.</p>"
      ],
      "text/plain": [
       "<IPython.core.display.HTML object>"
      ]
     },
     "metadata": {},
     "output_type": "display_data"
    },
    {
     "data": {
      "text/html": [
       "<p style=\"font-family:Supercell-Magic;margin:0px;\">\n",
       "P Value is 0.0196252.</p>"
      ],
      "text/plain": [
       "<IPython.core.display.HTML object>"
      ]
     },
     "metadata": {},
     "output_type": "display_data"
    },
    {
     "data": {
      "text/html": [
       "<div><img src=\"https://api-assets.clashroyale.com/cards/300/Gb0G1yNy0i5cIGUHin8uoFWxqntNtRPhY_jeMXg7HnA.png\" width=\"60px\" title=\"Barbarian Barrel\" style=\"display:inline;\"><img src=\"https://api-assets.clashroyale.com/cards/300/EnIcvO21hxiNpoI-zO6MDjLmzwPbq8Z4JPo2OKoVUjU.png\" width=\"60px\" title=\"Bats\" style=\"display:inline;\"><img src=\"https://api-assets.clashroyale.com/cards/300/lv1budiafU9XmSdrDkk0NYyqASAFYyZ06CPysXKZXlA.png\" width=\"60px\" title=\"Ice Spirit\" style=\"display:inline;\"><img src=\"https://api-assets.clashroyale.com/cards/300/jAj1Q5rclXxU9kVImGqSJxa4wEMfEhvwNQ_4jiGUuqg.png\" width=\"60px\" title=\"Knight\" style=\"display:inline;\"><img src=\"https://api-assets.clashroyale.com/cards/300/98HDkG2189yOULcVG9jz2QbJKtfuhH21DIrIjkOjxI8.png\" width=\"60px\" title=\"Poison\" style=\"display:inline;\"><img src=\"https://api-assets.clashroyale.com/cards/300/bAwMcqp9EKVIKH3ZLm_m0MqZFSG72zG-vKxpx8aKoVs.png\" width=\"60px\" title=\"Princess\" style=\"display:inline;\"><img src=\"https://api-assets.clashroyale.com/cards/300/ASSQJG_MoVq9e81HZzo4bynMnyLNpNJMfSLb3hqydOw.png\" width=\"60px\" title=\"Royal Hogs\" style=\"display:inline;\"><img src=\"https://api-assets.clashroyale.com/cards/300/_xPphEfC8eEwFNrfU3cMQG9-f5JaLQ31ARCA7l3XtW4.png\" width=\"60px\" title=\"Wall Breakers\" style=\"display:inline;\"></div>"
      ],
      "text/plain": [
       "<IPython.core.display.HTML object>"
      ]
     },
     "metadata": {},
     "output_type": "display_data"
    },
    {
     "data": {
      "text/html": [
       "<p style=\"font-family:Supercell-Magic;margin:0px;\">-----------------------------------------------------------------------------</p>"
      ],
      "text/plain": [
       "<IPython.core.display.HTML object>"
      ]
     },
     "metadata": {},
     "output_type": "display_data"
    },
    {
     "data": {
      "text/html": [
       "<p style=\"font-family:Supercell-Magic;margin:0px;\">Deck #2: 100.00% Win Rate over 16 matches.</p>"
      ],
      "text/plain": [
       "<IPython.core.display.HTML object>"
      ]
     },
     "metadata": {},
     "output_type": "display_data"
    },
    {
     "data": {
      "text/html": [
       "<p style=\"font-family:Supercell-Magic;margin:0px;\">\n",
       "P Value is 0.0227501.</p>"
      ],
      "text/plain": [
       "<IPython.core.display.HTML object>"
      ]
     },
     "metadata": {},
     "output_type": "display_data"
    },
    {
     "data": {
      "text/html": [
       "<div><img src=\"https://api-assets.clashroyale.com/cards/300/BmpK3bqEAviflqHCdxxnfm-_l3pRPJw3qxHkwS55nCY.png\" width=\"60px\" title=\"Dart Goblin\" style=\"display:inline;\"><img src=\"https://api-assets.clashroyale.com/cards/300/CoZdp5PpsTH858l212lAMeJxVJ0zxv9V-f5xC8Bvj5g.png\" width=\"60px\" title=\"Goblin Barrel\" style=\"display:inline;\"><img src=\"https://api-assets.clashroyale.com/cards/300/vD24bBgK4rSq7wx5QEbuqChtPMRFviL_ep76GwQw1yA.png\" width=\"60px\" title=\"Goblin Cage\" style=\"display:inline;\"><img src=\"https://api-assets.clashroyale.com/cards/300/NHflxzVAQT4oAz7eDfdueqpictb5vrWezn1nuqFhE4w.png\" width=\"60px\" title=\"Goblin Gang\" style=\"display:inline;\"><img src=\"https://api-assets.clashroyale.com/cards/300/SoW16cY3jXBwaTDvb39DkqiVsoFVaDWbzf5QBYphJrY.png\" width=\"60px\" title=\"Goblin Giant\" style=\"display:inline;\"><img src=\"https://api-assets.clashroyale.com/cards/300/X_DQUye_OaS3QN6VC9CPw05Fit7wvSm3XegXIXKP--0.png\" width=\"60px\" title=\"Goblins\" style=\"display:inline;\"><img src=\"https://api-assets.clashroyale.com/cards/300/Avli3W7BxU9HQ2SoLiXnBgGx25FoNXUSFm7OcAk68ek.png\" width=\"60px\" title=\"Magic Archer\" style=\"display:inline;\"><img src=\"https://api-assets.clashroyale.com/cards/300/FSDFotjaXidI4ku_WFpVCTWS1hKGnFh1sxX0lxM43_E.png\" width=\"60px\" title=\"Spear Goblins\" style=\"display:inline;\"></div>"
      ],
      "text/plain": [
       "<IPython.core.display.HTML object>"
      ]
     },
     "metadata": {},
     "output_type": "display_data"
    },
    {
     "data": {
      "text/html": [
       "<p style=\"font-family:Supercell-Magic;margin:0px;\">-----------------------------------------------------------------------------</p>"
      ],
      "text/plain": [
       "<IPython.core.display.HTML object>"
      ]
     },
     "metadata": {},
     "output_type": "display_data"
    },
    {
     "data": {
      "text/html": [
       "<p style=\"font-family:Supercell-Magic;margin:0px;\">Deck #3: 96.00% Win Rate over 25 matches.</p>"
      ],
      "text/plain": [
       "<IPython.core.display.HTML object>"
      ]
     },
     "metadata": {},
     "output_type": "display_data"
    },
    {
     "data": {
      "text/html": [
       "<p style=\"font-family:Supercell-Magic;margin:0px;\">\n",
       "P Value is 0.0227501.</p>"
      ],
      "text/plain": [
       "<IPython.core.display.HTML object>"
      ]
     },
     "metadata": {},
     "output_type": "display_data"
    },
    {
     "data": {
      "text/html": [
       "<div><img src=\"https://api-assets.clashroyale.com/cards/300/SU4qFXmbQXWjvASxVI6z9IJuTYolx4A0MKK90sTIE88.png\" width=\"60px\" title=\"Bowler\" style=\"display:inline;\"><img src=\"https://api-assets.clashroyale.com/cards/300/C88C5JH_F3lLZj6K-tLcMo5DPjrFmvzIb1R2M6xCfTE.png\" width=\"60px\" title=\"Elite Barbarians\" style=\"display:inline;\"><img src=\"https://api-assets.clashroyale.com/cards/300/lZD9MILQv7O-P3XBr_xOLS5idwuz3_7Ws9G60U36yhc.png\" width=\"60px\" title=\"Fireball\" style=\"display:inline;\"><img src=\"https://api-assets.clashroyale.com/cards/300/W3dkw0HTw9n1jB-zbknY2w3wHuyuLxSRIAV5fUT1SEY.png\" width=\"60px\" title=\"Ice Wizard\" style=\"display:inline;\"><img src=\"https://api-assets.clashroyale.com/cards/300/GSHY_wrooMMLET6bG_WJB8redtwx66c4i80ipi4gYOM.png\" width=\"60px\" title=\"Inferno Tower\" style=\"display:inline;\"><img src=\"https://api-assets.clashroyale.com/cards/300/_iDwuDLexHPFZ_x4_a0eP-rxCS6vwWgTs6DLauwwoaY.png\" width=\"60px\" title=\"The Log\" style=\"display:inline;\"><img src=\"https://api-assets.clashroyale.com/cards/300/0lIoYf3Y_plFTzo95zZL93JVxpfb3MMgFDDhgSDGU9A.png\" width=\"60px\" title=\"Valkyrie\" style=\"display:inline;\"><img src=\"https://api-assets.clashroyale.com/cards/300/7dxh2-yCBy1x44GrBaL29vjqnEEeJXHEAlsi5g6D1eY.png\" width=\"60px\" title=\"Zap\" style=\"display:inline;\"></div>"
      ],
      "text/plain": [
       "<IPython.core.display.HTML object>"
      ]
     },
     "metadata": {},
     "output_type": "display_data"
    },
    {
     "data": {
      "text/html": [
       "<p style=\"font-family:Supercell-Magic;margin:0px;\">-----------------------------------------------------------------------------</p>"
      ],
      "text/plain": [
       "<IPython.core.display.HTML object>"
      ]
     },
     "metadata": {},
     "output_type": "display_data"
    }
   ],
   "source": [
    "deck_stats['p_val'] = add_p_val_col(deck_stats, 0.8) # Null hypothesis is 50%\n",
    "deck_stats_08 = deck_stats.dropna()\n",
    "\n",
    "t3_pval = deck_stats_08.sort_values(by='p_val')[:3]\n",
    "for i, row in enumerate(t3_pval.values):\n",
    "    deck, _, win_rate, num_battles, p_val = row\n",
    "    print_font(f'Deck #{i+1}: {\"{:.2f}\".format(win_rate * 100)}% Win Rate over {num_battles} matches.')\n",
    "    print_font(f'\\nP Value is {\"{:.7f}\".format(p_val)}.')\n",
    "    print_cards(deckstr_to_list(deck))\n",
    "    print_font('-'*77)"
   ]
  },
  {
   "attachments": {},
   "cell_type": "markdown",
   "metadata": {},
   "source": [
    "It looks like a higher expected proportion leads to lower p-values for the 100% win rate, low sample size decks. Perhaps Deck #1 is worth trying, as it was also Deck #3 in the 0.5 expectation test."
   ]
  },
  {
   "attachments": {},
   "cell_type": "markdown",
   "metadata": {},
   "source": [
    "## Conlcuding Thoughts"
   ]
  },
  {
   "attachments": {},
   "cell_type": "markdown",
   "metadata": {},
   "source": [
    "We've decided on three decks that I should try, based on their win rates, popularity, and p-value:"
   ]
  },
  {
   "cell_type": "code",
   "execution_count": 646,
   "metadata": {},
   "outputs": [
    {
     "data": {
      "text/html": [
       "<div><img src=\"https://api-assets.clashroyale.com/cards/300/lZD9MILQv7O-P3XBr_xOLS5idwuz3_7Ws9G60U36yhc.png\" width=\"60px\" title=\"Fireball\" style=\"display:inline;\"><img src=\"https://api-assets.clashroyale.com/cards/300/CoZdp5PpsTH858l212lAMeJxVJ0zxv9V-f5xC8Bvj5g.png\" width=\"60px\" title=\"Goblin Barrel\" style=\"display:inline;\"><img src=\"https://api-assets.clashroyale.com/cards/300/NHflxzVAQT4oAz7eDfdueqpictb5vrWezn1nuqFhE4w.png\" width=\"60px\" title=\"Goblin Gang\" style=\"display:inline;\"><img src=\"https://api-assets.clashroyale.com/cards/300/lv1budiafU9XmSdrDkk0NYyqASAFYyZ06CPysXKZXlA.png\" width=\"60px\" title=\"Ice Spirit\" style=\"display:inline;\"><img src=\"https://api-assets.clashroyale.com/cards/300/GSHY_wrooMMLET6bG_WJB8redtwx66c4i80ipi4gYOM.png\" width=\"60px\" title=\"Inferno Tower\" style=\"display:inline;\"><img src=\"https://api-assets.clashroyale.com/cards/300/jAj1Q5rclXxU9kVImGqSJxa4wEMfEhvwNQ_4jiGUuqg.png\" width=\"60px\" title=\"Knight\" style=\"display:inline;\"><img src=\"https://api-assets.clashroyale.com/cards/300/bAwMcqp9EKVIKH3ZLm_m0MqZFSG72zG-vKxpx8aKoVs.png\" width=\"60px\" title=\"Princess\" style=\"display:inline;\"><img src=\"https://api-assets.clashroyale.com/cards/300/_iDwuDLexHPFZ_x4_a0eP-rxCS6vwWgTs6DLauwwoaY.png\" width=\"60px\" title=\"The Log\" style=\"display:inline;\"></div>"
      ],
      "text/plain": [
       "<IPython.core.display.HTML object>"
      ]
     },
     "metadata": {},
     "output_type": "display_data"
    },
    {
     "data": {
      "text/html": [
       "<div><img src=\"https://api-assets.clashroyale.com/cards/300/SU4qFXmbQXWjvASxVI6z9IJuTYolx4A0MKK90sTIE88.png\" width=\"60px\" title=\"Bowler\" style=\"display:inline;\"><img src=\"https://api-assets.clashroyale.com/cards/300/C88C5JH_F3lLZj6K-tLcMo5DPjrFmvzIb1R2M6xCfTE.png\" width=\"60px\" title=\"Elite Barbarians\" style=\"display:inline;\"><img src=\"https://api-assets.clashroyale.com/cards/300/lZD9MILQv7O-P3XBr_xOLS5idwuz3_7Ws9G60U36yhc.png\" width=\"60px\" title=\"Fireball\" style=\"display:inline;\"><img src=\"https://api-assets.clashroyale.com/cards/300/W3dkw0HTw9n1jB-zbknY2w3wHuyuLxSRIAV5fUT1SEY.png\" width=\"60px\" title=\"Ice Wizard\" style=\"display:inline;\"><img src=\"https://api-assets.clashroyale.com/cards/300/GSHY_wrooMMLET6bG_WJB8redtwx66c4i80ipi4gYOM.png\" width=\"60px\" title=\"Inferno Tower\" style=\"display:inline;\"><img src=\"https://api-assets.clashroyale.com/cards/300/_iDwuDLexHPFZ_x4_a0eP-rxCS6vwWgTs6DLauwwoaY.png\" width=\"60px\" title=\"The Log\" style=\"display:inline;\"><img src=\"https://api-assets.clashroyale.com/cards/300/0lIoYf3Y_plFTzo95zZL93JVxpfb3MMgFDDhgSDGU9A.png\" width=\"60px\" title=\"Valkyrie\" style=\"display:inline;\"><img src=\"https://api-assets.clashroyale.com/cards/300/7dxh2-yCBy1x44GrBaL29vjqnEEeJXHEAlsi5g6D1eY.png\" width=\"60px\" title=\"Zap\" style=\"display:inline;\"></div>"
      ],
      "text/plain": [
       "<IPython.core.display.HTML object>"
      ]
     },
     "metadata": {},
     "output_type": "display_data"
    },
    {
     "data": {
      "text/html": [
       "<div><img src=\"https://api-assets.clashroyale.com/cards/300/Gb0G1yNy0i5cIGUHin8uoFWxqntNtRPhY_jeMXg7HnA.png\" width=\"60px\" title=\"Barbarian Barrel\" style=\"display:inline;\"><img src=\"https://api-assets.clashroyale.com/cards/300/EnIcvO21hxiNpoI-zO6MDjLmzwPbq8Z4JPo2OKoVUjU.png\" width=\"60px\" title=\"Bats\" style=\"display:inline;\"><img src=\"https://api-assets.clashroyale.com/cards/300/lv1budiafU9XmSdrDkk0NYyqASAFYyZ06CPysXKZXlA.png\" width=\"60px\" title=\"Ice Spirit\" style=\"display:inline;\"><img src=\"https://api-assets.clashroyale.com/cards/300/jAj1Q5rclXxU9kVImGqSJxa4wEMfEhvwNQ_4jiGUuqg.png\" width=\"60px\" title=\"Knight\" style=\"display:inline;\"><img src=\"https://api-assets.clashroyale.com/cards/300/98HDkG2189yOULcVG9jz2QbJKtfuhH21DIrIjkOjxI8.png\" width=\"60px\" title=\"Poison\" style=\"display:inline;\"><img src=\"https://api-assets.clashroyale.com/cards/300/bAwMcqp9EKVIKH3ZLm_m0MqZFSG72zG-vKxpx8aKoVs.png\" width=\"60px\" title=\"Princess\" style=\"display:inline;\"><img src=\"https://api-assets.clashroyale.com/cards/300/ASSQJG_MoVq9e81HZzo4bynMnyLNpNJMfSLb3hqydOw.png\" width=\"60px\" title=\"Royal Hogs\" style=\"display:inline;\"><img src=\"https://api-assets.clashroyale.com/cards/300/_xPphEfC8eEwFNrfU3cMQG9-f5JaLQ31ARCA7l3XtW4.png\" width=\"60px\" title=\"Wall Breakers\" style=\"display:inline;\"></div>"
      ],
      "text/plain": [
       "<IPython.core.display.HTML object>"
      ]
     },
     "metadata": {},
     "output_type": "display_data"
    }
   ],
   "source": [
    "pop_deck_05 = pop_3.values[2][0]\n",
    "best_deck_05 = deck_stats_05.sort_values(by='p_val').head(1).values[0][0]\n",
    "best_deck_08 = deck_stats_08.sort_values(by='p_val').head(1).values[0][0]\n",
    "print_cards(deckstr_to_list(pop_deck_05))\n",
    "print_cards(deckstr_to_list(best_deck_05))\n",
    "print_cards(deckstr_to_list(best_deck_08))"
   ]
  },
  {
   "attachments": {},
   "cell_type": "markdown",
   "metadata": {},
   "source": [
    "### Conclusions and Recap"
   ]
  },
  {
   "attachments": {},
   "cell_type": "markdown",
   "metadata": {},
   "source": [
    "We can draw a few conclusions from our analysis. \n",
    "\n",
    "Firstly, we have learned that matches are clustered around the 1500-3000 trophy range and the 4500-6000 trophy range. Players are clustered around the start of arenas, typically in 300-500 trophy intervals, with the number of matches (and as a thus players) decreasing as trophy counts increase in an arena. The quantity of matches in my trophy interval of interest (5000-5500) makes data analysis easier for my purposes.\n",
    "\n",
    "We also analyzed the distribution of matches per deck. The top few decks have thousands of times more matches than the rest of the decks. This raised the question of whether these decks are popular because of their effectiveness. We then looked at the most popular decks in particular, and saw that the 2.6 Hog Cycle and the Arena 1 starter deck were among the most used, with variations of the latter being used frequently. We also looked at the most popular cards, with many of them not being in the top decks. This suggests that those cards are more likely to be picked when players create custom decks.\n",
    "\n",
    "We also looked at the most popular decks for each trophy level. Players from 0 to 2000 most frequently use the Arena 1 starter deck, players from 2000 to 2500 use a unique deck with more advanced cards, players from 2500 to 7000 use variations of the 2.6 Hog Cycle, and players above 7000 use another unique deck.\n",
    "\n",
    "We also observed the win rates of each of these decks. The decks from 0 to 3000 have pretty low win rates, around 20%. They are probably only popular due to the fact that many players stick with the starting deck. The 2.6 Hog Cycle has a roughly 40-50% win rate for 3000-7000, which is pretty solid but could be better. It's probably lower due to the increased prevalence of decks that effectively counter it. The 7000+ trophy deck has about a 50% win rate, which is definitely solid for a popular deck. From this, we can conclude that the popularity of a deck does not necessarily correlate with its effectiveness.\n",
    "\n",
    "We also analyzed the best decks by win rate, but we saw that they all had very few battles associated with them. Thus, we saw the importance of evaluating the statistical significance of our results. We ran hypothesis tests (one-proportion z-tests) in a few different ways and landed on 3 different decks to try out. I would suggest that the reader, if in the 5000-5500 trophy range, try these decks as well and gauge their effectiveness."
   ]
  },
  {
   "cell_type": "markdown",
   "metadata": {},
   "source": [
    "### Future Work"
   ]
  },
  {
   "attachments": {},
   "cell_type": "markdown",
   "metadata": {},
   "source": [
    "It could be valuable to examine stats for other gamemodes, like the Path of Legends or Clan War battles. It would also be useful to examine the effectiveness of decks against the 2.6 Hog Cycle, or whatever deck is most popular in the future.\n",
    "\n",
    "Another interesting statistic could be the prevalence of certain decks over time. It would be good to confirm my hunch that the 2.6 Hog Cycle is losing prevalence, and it would be interesting to see what deck is poised to replace it."
   ]
  },
  {
   "attachments": {},
   "cell_type": "markdown",
   "metadata": {},
   "source": [
    "### Takeaways"
   ]
  },
  {
   "attachments": {},
   "cell_type": "markdown",
   "metadata": {},
   "source": [
    "After reading this analysis, you should gain a better understanding of the mechanics of Clash Royale, what decks are best, how you might analyze the effectiveness and popularity of each deck, and hopefully a bit of knowledge about statistics. Maybe you'll be inspired to try Clash Royale yourself, and you'll use some of these statistics to your advantage. \n",
    "\n",
    "Thank you for reading my analysis."
   ]
  }
 ],
 "metadata": {
  "kernelspec": {
   "display_name": "Python 3",
   "language": "python",
   "name": "python3"
  },
  "language_info": {
   "codemirror_mode": {
    "name": "ipython",
    "version": 3
   },
   "file_extension": ".py",
   "mimetype": "text/x-python",
   "name": "python",
   "nbconvert_exporter": "python",
   "pygments_lexer": "ipython3",
   "version": "3.10.7"
  },
  "orig_nbformat": 4,
  "vscode": {
   "interpreter": {
    "hash": "b0fa6594d8f4cbf19f97940f81e996739fb7646882a419484c72d19e05852a7e"
   }
  }
 },
 "nbformat": 4,
 "nbformat_minor": 2
}
