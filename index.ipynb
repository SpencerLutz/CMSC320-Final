{
 "cells": [
  {
   "attachments": {},
   "cell_type": "markdown",
   "metadata": {},
   "source": [
    "# What Deck is Best in Clash Royale?"
   ]
  },
  {
   "attachments": {},
   "cell_type": "markdown",
   "metadata": {},
   "source": [
    "[Clash Royale](https://clashroyale.com/) is a free-to-play real-time strategy mobile game released by [Supercell](https://supercell.com/). After the success of their game [Clash of Clans](https://supercell.com/en/games/clashofclans/), they released Clash Royale in early 2016 using many of the same characters, items, and mechanics. In a match of Clash Royale, each player selects a deck of 8 'cards'. Each card corresponds to a character with unique stats and abilities. These cards cost 'elixir' to use, a currency that slowly replenishes throughout the match. The goal of the game is to use your cards to simultaneously destroy the opponent's towers and defend your own. Each player has a 'King Tower' which is flanked by two 'Princess Towers'. The player who destroys their opponent's 'King Tower' first wins. If time runs out, the player who has destroyed more of their opponent's Princess Towers wins. If an equal number of Princess Towers on both sides are destroyed once time runs out, the game goes into overtime, at which point the first player to take any tower wins. If no towers are destroyed during overtime, the player with the lowest-health tower loses. As there are so many tiebreaking methods, matches are decisive and virtually never end in a draw."
   ]
  },
  {
   "attachments": {},
   "cell_type": "markdown",
   "metadata": {},
   "source": [
    "There are many different types of matches that occur in Clash Royale, but I will be focusing on "
   ]
  }
 ],
 "metadata": {
  "kernelspec": {
   "display_name": "Python 3",
   "language": "python",
   "name": "python3"
  },
  "language_info": {
   "name": "python",
   "version": "3.10.7 (main, Sep 14 2022, 22:38:23) [Clang 14.0.0 (clang-1400.0.29.102)]"
  },
  "orig_nbformat": 4,
  "vscode": {
   "interpreter": {
    "hash": "b0fa6594d8f4cbf19f97940f81e996739fb7646882a419484c72d19e05852a7e"
   }
  }
 },
 "nbformat": 4,
 "nbformat_minor": 2
}
